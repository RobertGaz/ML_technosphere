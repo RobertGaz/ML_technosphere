{
 "cells": [
  {
   "cell_type": "markdown",
   "metadata": {},
   "source": [
    "**Общая информация**\n",
    "\n",
    "**Срок сдачи:** 21 октября 2019, 08:30 \n",
    "\n",
    "**Штраф за опоздание:** по 0.5 балла за 24 часа задержки. Через 10 дней домашнее задание сгорает.\n",
    "\n",
    "При отправлении ДЗ указывайте фамилию в названии файла\n",
    "Присылать ДЗ необходимо в виде ссылки на свой github репозиторий на почту ml1.sphere@mail.ru с указанием темы в следующем формате:\n",
    "\n",
    "[ML0919, Задание 1] Фамилия Имя.\n",
    "\n",
    "Используйте данный Ipython Notebook при оформлении домашнего задания."
   ]
  },
  {
   "cell_type": "markdown",
   "metadata": {},
   "source": [
    "\n",
    "**Штрафные баллы:**\n",
    "\n",
    "1. Невыполнение PEP8 -0.5 баллов\n",
    "2. Отсутствие фамилии в имени скрипта (скрипт должен называться по аналогии со stroykova_hw1.ipynb) -0.5 баллов\n",
    "3. Все строчки должны быть выполнены. Нужно, чтобы output команды можно было увидеть уже в git'е. В противном случае -0.5 баллов\n"
   ]
  },
  {
   "cell_type": "code",
   "execution_count": 1,
   "metadata": {},
   "outputs": [],
   "source": [
    "import numpy as np\n",
    "import matplotlib.pyplot as plt\n",
    "\n",
    "import seaborn as sns\n",
    "from sklearn import datasets\n",
    "from sklearn.base import ClassifierMixin\n",
    "from sklearn.datasets import fetch_mldata, fetch_20newsgroups\n",
    "\n",
    "from sklearn.neighbors.base import NeighborsBase, KNeighborsMixin, SupervisedIntegerMixin \n",
    "from sklearn.model_selection import train_test_split\n",
    "from sklearn.neighbors import KNeighborsClassifier\n",
    "from scipy.spatial.distance import cosine\n",
    "\n",
    "from sklearn.neighbors import KDTree\n",
    "import re\n",
    "\n",
    "%load_ext pycodestyle_magic"
   ]
  },
  {
   "cell_type": "markdown",
   "metadata": {},
   "source": [
    "##### Задание 1 (1 балл)\n",
    "Реализовать KNN в классе MyKNeighborsClassifier (обязательное условие: точность не ниже sklearn реализации)\n",
    "Разберитесь самостоятельно, какая мера расстояния используется в KNeighborsClassifier дефолтно и реализуйте свой алгоритм именно с этой мерой. Самостоятельно разберитесь, как считается score из KNeighborsClassifier и реализуйте аналог в своём классе. Score не должен уступать значению KNN из sklearn"
   ]
  },
  {
   "cell_type": "code",
   "execution_count": 37,
   "metadata": {},
   "outputs": [],
   "source": [
    "#%%pycodestyle\n",
    "\n",
    "\n",
    "class MyKNeighborsClassifier(NeighborsBase, KNeighborsMixin,\n",
    "                             SupervisedIntegerMixin, ClassifierMixin):\n",
    "\n",
    "    def __init__(self, n_neighbors, algorithm='brute',\n",
    "                 weights='uniform', metric='minkowski', p=2,\n",
    "                 manual_neighbors=False, manual__all_nearest_indices=[],\n",
    "                 manual__all_nearest_dists=[]):\n",
    "        self.n_neighbors = n_neighbors\n",
    "        self.weights = weights\n",
    "        self.algorithm = algorithm\n",
    "        self.metric = metric\n",
    "        self.p = p\n",
    "        self.manual_neighbors = manual_neighbors\n",
    "\n",
    "    def fit(self, X, y,\n",
    "            manual__all_nearest_indices=[], manual__all_nearest_dists=[]):\n",
    "        self.X_fixed = np.array(X)\n",
    "        self.y_fixed = np.array(y)\n",
    "        self.classes_ = np.unique(self.y_fixed)\n",
    "\n",
    "        if self.manual_neighbors:\n",
    "            self.manual__all_nearest_indices = manual__all_nearest_indices\n",
    "            self.manual__all_nearest_dists = manual__all_nearest_dists\n",
    "        else:\n",
    "            if self.metric == 'minkowski':\n",
    "                self.X_fixed_reshaped = np.array(\n",
    "                    [self.X_fixed[:, i] for i in range(self.X_fixed.shape[1])])\n",
    "\n",
    "            if self.algorithm == 'kd_tree':\n",
    "                self.tree = KDTree(self.X_fixed)\n",
    "\n",
    "    def get_dists(self, x):\n",
    "        x = np.array(x)\n",
    "        if self.metric == 'minkowski':\n",
    "            diff = self.X_fixed_reshaped - x.reshape(-1, 1)\n",
    "            return (abs(diff)**self.p).sum(axis=0)**(1/self.p)\n",
    "        if self.metric == 'cosine':\n",
    "            res = np.array(\n",
    "                list(map(lambda x_fixed: cosine(x_fixed, x), self.X_fixed)))\n",
    "            return res\n",
    "\n",
    "    # получаем упорядоченный массив n ближайших классов\n",
    "    # и массив n расстояний от них до x для каждого x из X\n",
    "    def get_nearest_neighbors(self, X):\n",
    "        if self.manual_neighbors:\n",
    "            return (self.manual__all_nearest_indices[:, :self.n_neighbors],\n",
    "                    self.manual__all_nearest_dists[:, :self.n_neighbors])\n",
    "        if self.algorithm == 'brute':\n",
    "            all_indices = []\n",
    "            all_dists = []\n",
    "            for x in X:\n",
    "                dists = self.get_dists(x)\n",
    "                nearest_indices = np.argsort(dists)[:self.n_neighbors]\n",
    "                nearest_dists = dists[nearest_indices]\n",
    "                all_indices.append(nearest_indices)\n",
    "                all_dists.append(nearest_dists)\n",
    "            return np.array(all_indices), np.array(all_dists)\n",
    "\n",
    "        if self.algorithm == 'kd_tree':\n",
    "            all_dists, all_indices = self.tree.query(X, k=self.n_neighbors)\n",
    "            return (np.array(all_indices)[:, :self.n_neighbors],\n",
    "                    np.array(all_dists)[:, :self.n_neighbors])\n",
    "\n",
    "    # получаем веса этих n классов\n",
    "    def get_nearest_weights(self, nearest_dists):\n",
    "        if self.weights == 'uniform':\n",
    "            nearest_weights = np.ones(len(nearest_dists))/len(nearest_dists)\n",
    "\n",
    "        return nearest_weights\n",
    "\n",
    "    # получаем массив весов для всех классов выборки для каждого x из X\n",
    "    def get_class_weights(self, X):\n",
    "        all_nearest_indices, all_nearest_dists = self.get_nearest_neighbors(X)\n",
    "        all_nearest_weights = np.array(list(map(self.get_nearest_weights,\n",
    "                                                all_nearest_dists)))\n",
    "\n",
    "        all_class_weights = []\n",
    "        for i in range(len(all_nearest_weights)):\n",
    "            nearest_classes = self.y_fixed[all_nearest_indices[i]]\n",
    "            class_weights = np.array(\n",
    "                [all_nearest_weights[i, nearest_classes == class_].sum()\n",
    "                    for class_ in self.classes_])\n",
    "            all_class_weights.append(class_weights)\n",
    "        return all_class_weights\n",
    "\n",
    "    def predict(self, X):\n",
    "        all_class_weights = self.get_class_weights(X)\n",
    "        return list(\n",
    "            map(lambda class_weights: self.classes_[class_weights.argmax()],\n",
    "                all_class_weights))\n",
    "\n",
    "    def predict_proba(self, X):\n",
    "        all_class_weights = self.get_class_weights(X)\n",
    "        return list(\n",
    "            map(lambda class_weights: class_weights/class_weights.sum(),\n",
    "                all_class_weights))\n",
    "\n",
    "    def score(self, X, y):\n",
    "        difference = self.predict(X) - y\n",
    "        difference[difference != 0] = 1\n",
    "        return 1 - difference.mean()\n"
   ]
  },
  {
   "cell_type": "code",
   "execution_count": 3,
   "metadata": {},
   "outputs": [],
   "source": [
    "iris = datasets.load_iris()"
   ]
  },
  {
   "cell_type": "code",
   "execution_count": 4,
   "metadata": {},
   "outputs": [],
   "source": [
    "X_train, X_test, y_train, y_test = train_test_split(iris.data, iris.target, test_size=0.1, stratify=iris.target)"
   ]
  },
  {
   "cell_type": "code",
   "execution_count": 5,
   "metadata": {},
   "outputs": [],
   "source": [
    "clf = KNeighborsClassifier(n_neighbors=2, algorithm='brute')\n",
    "my_clf = MyKNeighborsClassifier(n_neighbors=2, algorithm='brute')"
   ]
  },
  {
   "cell_type": "code",
   "execution_count": 6,
   "metadata": {},
   "outputs": [],
   "source": [
    "clf.fit(X_train, y_train)\n",
    "my_clf.fit(X_train, y_train)"
   ]
  },
  {
   "cell_type": "code",
   "execution_count": 7,
   "metadata": {},
   "outputs": [],
   "source": [
    "assert abs(my_clf.score(X_test, y_test) - clf.score(X_test,y_test))<0.005, \"Score must be simillar\""
   ]
  },
  {
   "cell_type": "markdown",
   "metadata": {},
   "source": [
    "**Задание 2 (0.5 балла)**\n",
    "\n",
    "Давайте попробуем добиться скорости работы на fit, predict и predict_proba сравнимой со sklearn для iris.\n",
    "Для этого используем numpy"
   ]
  },
  {
   "cell_type": "code",
   "execution_count": 8,
   "metadata": {},
   "outputs": [
    {
     "name": "stdout",
     "output_type": "stream",
     "text": [
      "Wall time: 2.11 ms\n"
     ]
    },
    {
     "data": {
      "text/plain": [
       "KNeighborsClassifier(algorithm='brute', leaf_size=30, metric='minkowski',\n",
       "                     metric_params=None, n_jobs=None, n_neighbors=2, p=2,\n",
       "                     weights='uniform')"
      ]
     },
     "execution_count": 8,
     "metadata": {},
     "output_type": "execute_result"
    }
   ],
   "source": [
    "%time clf.fit(X_train, y_train)"
   ]
  },
  {
   "cell_type": "code",
   "execution_count": 9,
   "metadata": {},
   "outputs": [
    {
     "name": "stdout",
     "output_type": "stream",
     "text": [
      "Wall time: 0 ns\n"
     ]
    }
   ],
   "source": [
    "%time my_clf.fit(X_train, y_train)"
   ]
  },
  {
   "cell_type": "code",
   "execution_count": 10,
   "metadata": {},
   "outputs": [
    {
     "name": "stdout",
     "output_type": "stream",
     "text": [
      "Wall time: 7 ms\n"
     ]
    },
    {
     "data": {
      "text/plain": [
       "array([1, 1, 0, 1, 0, 0, 2, 1, 1, 0, 1, 2, 2, 0, 2])"
      ]
     },
     "execution_count": 10,
     "metadata": {},
     "output_type": "execute_result"
    }
   ],
   "source": [
    "%time clf.predict(X_test)"
   ]
  },
  {
   "cell_type": "code",
   "execution_count": 11,
   "metadata": {},
   "outputs": [
    {
     "name": "stdout",
     "output_type": "stream",
     "text": [
      "Wall time: 8.36 ms\n"
     ]
    },
    {
     "data": {
      "text/plain": [
       "[1, 1, 0, 1, 0, 0, 2, 1, 1, 0, 1, 2, 2, 0, 2]"
      ]
     },
     "execution_count": 11,
     "metadata": {},
     "output_type": "execute_result"
    }
   ],
   "source": [
    "%time my_clf.predict(X_test)"
   ]
  },
  {
   "cell_type": "code",
   "execution_count": 24,
   "metadata": {},
   "outputs": [
    {
     "name": "stdout",
     "output_type": "stream",
     "text": [
      "Wall time: 4.35 ms\n"
     ]
    },
    {
     "data": {
      "text/plain": [
       "array([[0. , 1. , 0. ],\n",
       "       [0. , 0.5, 0.5],\n",
       "       [1. , 0. , 0. ],\n",
       "       [0. , 1. , 0. ],\n",
       "       [1. , 0. , 0. ],\n",
       "       [1. , 0. , 0. ],\n",
       "       [0. , 0. , 1. ],\n",
       "       [0. , 1. , 0. ],\n",
       "       [0. , 1. , 0. ],\n",
       "       [1. , 0. , 0. ],\n",
       "       [0. , 1. , 0. ],\n",
       "       [0. , 0. , 1. ],\n",
       "       [0. , 0. , 1. ],\n",
       "       [1. , 0. , 0. ],\n",
       "       [0. , 0. , 1. ]])"
      ]
     },
     "execution_count": 24,
     "metadata": {},
     "output_type": "execute_result"
    }
   ],
   "source": [
    "%time clf.predict_proba(X_test)"
   ]
  },
  {
   "cell_type": "code",
   "execution_count": 25,
   "metadata": {},
   "outputs": [
    {
     "name": "stdout",
     "output_type": "stream",
     "text": [
      "Wall time: 5.01 ms\n"
     ]
    },
    {
     "data": {
      "text/plain": [
       "[array([0., 1., 0.]),\n",
       " array([0. , 0.5, 0.5]),\n",
       " array([1., 0., 0.]),\n",
       " array([0., 1., 0.]),\n",
       " array([1., 0., 0.]),\n",
       " array([1., 0., 0.]),\n",
       " array([0., 0., 1.]),\n",
       " array([0., 1., 0.]),\n",
       " array([0., 1., 0.]),\n",
       " array([1., 0., 0.]),\n",
       " array([0., 1., 0.]),\n",
       " array([0., 0., 1.]),\n",
       " array([0., 0., 1.]),\n",
       " array([1., 0., 0.]),\n",
       " array([0., 0., 1.])]"
      ]
     },
     "execution_count": 25,
     "metadata": {},
     "output_type": "execute_result"
    }
   ],
   "source": [
    "%time my_clf.predict_proba(X_test)"
   ]
  },
  {
   "cell_type": "markdown",
   "metadata": {},
   "source": [
    "###### Задание 3 (1 балл)\n",
    "Добавьте algorithm='kd_tree' в реализацию KNN (использовать KDTree из sklearn.neighbors). Необходимо добиться скорости работы на fit,  predict и predict_proba сравнимой со sklearn для iris.\n",
    "Для этого используем numpy. Score не должен уступать значению KNN из sklearn"
   ]
  },
  {
   "cell_type": "code",
   "execution_count": 26,
   "metadata": {},
   "outputs": [],
   "source": [
    "clf = KNeighborsClassifier(n_neighbors=2, algorithm='kd_tree')\n",
    "my_clf = MyKNeighborsClassifier(n_neighbors=2, algorithm='kd_tree')"
   ]
  },
  {
   "cell_type": "code",
   "execution_count": 27,
   "metadata": {},
   "outputs": [],
   "source": [
    "X_train, X_test, y_train, y_test = train_test_split(iris.data, iris.target, test_size=0.1, stratify=iris.target)"
   ]
  },
  {
   "cell_type": "code",
   "execution_count": 28,
   "metadata": {},
   "outputs": [
    {
     "name": "stdout",
     "output_type": "stream",
     "text": [
      "Wall time: 9.58 ms\n"
     ]
    },
    {
     "data": {
      "text/plain": [
       "KNeighborsClassifier(algorithm='kd_tree', leaf_size=30, metric='minkowski',\n",
       "                     metric_params=None, n_jobs=None, n_neighbors=2, p=2,\n",
       "                     weights='uniform')"
      ]
     },
     "execution_count": 28,
     "metadata": {},
     "output_type": "execute_result"
    }
   ],
   "source": [
    "%time clf.fit(X_train, y_train)"
   ]
  },
  {
   "cell_type": "code",
   "execution_count": 29,
   "metadata": {},
   "outputs": [
    {
     "name": "stdout",
     "output_type": "stream",
     "text": [
      "Wall time: 4.56 ms\n"
     ]
    }
   ],
   "source": [
    "%time my_clf.fit(X_train, y_train)"
   ]
  },
  {
   "cell_type": "code",
   "execution_count": 30,
   "metadata": {},
   "outputs": [
    {
     "name": "stdout",
     "output_type": "stream",
     "text": [
      "Wall time: 10.2 ms\n"
     ]
    },
    {
     "data": {
      "text/plain": [
       "array([1, 0, 1, 1, 1, 0, 2, 1, 2, 1, 1, 2, 0, 0, 0])"
      ]
     },
     "execution_count": 30,
     "metadata": {},
     "output_type": "execute_result"
    }
   ],
   "source": [
    "%time clf.predict(X_test)"
   ]
  },
  {
   "cell_type": "code",
   "execution_count": 31,
   "metadata": {},
   "outputs": [
    {
     "name": "stdout",
     "output_type": "stream",
     "text": [
      "Wall time: 6.59 ms\n"
     ]
    },
    {
     "data": {
      "text/plain": [
       "[1, 0, 1, 1, 1, 0, 2, 1, 2, 1, 1, 2, 0, 0, 0]"
      ]
     },
     "execution_count": 31,
     "metadata": {},
     "output_type": "execute_result"
    }
   ],
   "source": [
    "%time my_clf.predict(X_test)"
   ]
  },
  {
   "cell_type": "code",
   "execution_count": 32,
   "metadata": {},
   "outputs": [
    {
     "name": "stdout",
     "output_type": "stream",
     "text": [
      "Wall time: 4.03 ms\n"
     ]
    },
    {
     "data": {
      "text/plain": [
       "array([[0. , 0.5, 0.5],\n",
       "       [1. , 0. , 0. ],\n",
       "       [0. , 1. , 0. ],\n",
       "       [0. , 1. , 0. ],\n",
       "       [0. , 1. , 0. ],\n",
       "       [1. , 0. , 0. ],\n",
       "       [0. , 0. , 1. ],\n",
       "       [0. , 1. , 0. ],\n",
       "       [0. , 0. , 1. ],\n",
       "       [0. , 1. , 0. ],\n",
       "       [0. , 1. , 0. ],\n",
       "       [0. , 0. , 1. ],\n",
       "       [1. , 0. , 0. ],\n",
       "       [1. , 0. , 0. ],\n",
       "       [1. , 0. , 0. ]])"
      ]
     },
     "execution_count": 32,
     "metadata": {},
     "output_type": "execute_result"
    }
   ],
   "source": [
    "%time clf.predict_proba(X_test)"
   ]
  },
  {
   "cell_type": "code",
   "execution_count": 33,
   "metadata": {},
   "outputs": [
    {
     "name": "stdout",
     "output_type": "stream",
     "text": [
      "Wall time: 6.24 ms\n"
     ]
    },
    {
     "data": {
      "text/plain": [
       "[array([0. , 0.5, 0.5]),\n",
       " array([1., 0., 0.]),\n",
       " array([0., 1., 0.]),\n",
       " array([0., 1., 0.]),\n",
       " array([0., 1., 0.]),\n",
       " array([1., 0., 0.]),\n",
       " array([0., 0., 1.]),\n",
       " array([0., 1., 0.]),\n",
       " array([0., 0., 1.]),\n",
       " array([0., 1., 0.]),\n",
       " array([0., 1., 0.]),\n",
       " array([0., 0., 1.]),\n",
       " array([1., 0., 0.]),\n",
       " array([1., 0., 0.]),\n",
       " array([1., 0., 0.])]"
      ]
     },
     "execution_count": 33,
     "metadata": {},
     "output_type": "execute_result"
    }
   ],
   "source": [
    "%time my_clf.predict_proba(X_test)"
   ]
  },
  {
   "cell_type": "code",
   "execution_count": 34,
   "metadata": {},
   "outputs": [],
   "source": [
    "assert abs(my_clf.score(X_test, y_test) - clf.score(X_test,y_test))<0.005, \"Score must be simillar\""
   ]
  },
  {
   "cell_type": "markdown",
   "metadata": {},
   "source": [
    "**Задание 4 (2.5 балла)**\n",
    "\n",
    "Рассмотрим новый датасет 20 newsgroups"
   ]
  },
  {
   "cell_type": "code",
   "execution_count": 35,
   "metadata": {},
   "outputs": [],
   "source": [
    "newsgroups = fetch_20newsgroups(subset='train', remove=['headers','footers', 'quotes'])"
   ]
  },
  {
   "cell_type": "code",
   "execution_count": 36,
   "metadata": {},
   "outputs": [],
   "source": [
    "data = newsgroups['data']\n",
    "target = newsgroups['target']"
   ]
  },
  {
   "cell_type": "markdown",
   "metadata": {},
   "source": [
    "Переведите во всех документах все буквы в нижний регистр и замените во всех документах символы, не\n",
    "являющиеся буквами и цифрами, на пробелы. Далее разбейте текста по пробельным символам на токены(термы/слова). Удалите текста, содержащие только пробелы."
   ]
  },
  {
   "cell_type": "code",
   "execution_count": 5,
   "metadata": {},
   "outputs": [],
   "source": [
    "#%%pycodestyle\n",
    "\n",
    "\n",
    "def transform_dataset(data, target):\n",
    "    texts = [re.sub(r'\\W', ' ', text.lower()) for text in data]\n",
    "    tokenized_texts = []\n",
    "    targets = []\n",
    "    for i in range(len(texts)):\n",
    "        if not texts[i].isspace() and texts[i] != '':\n",
    "            tokenized_texts.append(re.split(' ', texts[i]))\n",
    "            targets.append(target[i])\n",
    "\n",
    "    return tokenized_texts, np.array(targets)\n"
   ]
  },
  {
   "cell_type": "code",
   "execution_count": 6,
   "metadata": {},
   "outputs": [],
   "source": [
    "data_tok, targets = transform_dataset(data, target)"
   ]
  },
  {
   "cell_type": "code",
   "execution_count": 7,
   "metadata": {},
   "outputs": [],
   "source": [
    "assert all(isinstance(row, (list, tuple)) for row in data_tok), \"please convert each line into a list of tokens (strings)\"\n",
    "assert all(all(isinstance(tok, str) for tok in row) for row in data_tok), \"please convert each line into a list of tokens (strings)\"\n",
    "is_latin = lambda tok: all('a' <= x.lower() <= 'z' for x in tok)\n",
    "assert all(map(lambda l: not is_latin(l) or l.islower() , map(' '.join, data_tok))), \"please make sure that you lowercase the data and drop spaced texts\""
   ]
  },
  {
   "cell_type": "markdown",
   "metadata": {},
   "source": [
    "Преобразуйте датасет в разреженную матрицу scipy.sparse.csr_matrix, где значение x в позиции (i, j)\n",
    "означает, что в документе i слово j встретилось x раз"
   ]
  },
  {
   "cell_type": "code",
   "execution_count": 8,
   "metadata": {},
   "outputs": [],
   "source": [
    "from scipy.sparse import csr_matrix"
   ]
  },
  {
   "cell_type": "code",
   "execution_count": 9,
   "metadata": {},
   "outputs": [],
   "source": [
    "#%%pycodestyle\n",
    "\n",
    "word_position = {}\n",
    "column_indices = []\n",
    "values = []\n",
    "indptr = [0]\n",
    "\n",
    "for text in data_tok:\n",
    "    for word in text:\n",
    "        index = word_position.setdefault(word, len(word_position))\n",
    "        column_indices.append(index)\n",
    "        values.append(1)\n",
    "    indptr.append(len(column_indices))\n",
    "\n",
    "M = csr_matrix((values, column_indices, indptr))\n"
   ]
  },
  {
   "cell_type": "code",
   "execution_count": 10,
   "metadata": {},
   "outputs": [
    {
     "data": {
      "text/plain": [
       "(11004, 101676)"
      ]
     },
     "execution_count": 10,
     "metadata": {},
     "output_type": "execute_result"
    }
   ],
   "source": [
    "M.shape"
   ]
  },
  {
   "cell_type": "markdown",
   "metadata": {},
   "source": [
    "*Так мы получили векторное представление наших текстов. Значит можно приступать к задаче обучения модели*"
   ]
  },
  {
   "cell_type": "markdown",
   "metadata": {},
   "source": [
    "Реализуйте разбиение выборки для кросс-валидации на 3 фолдах. Разрешено использовать sklearn.cross_validation"
   ]
  },
  {
   "cell_type": "code",
   "execution_count": 31,
   "metadata": {},
   "outputs": [],
   "source": [
    "from sklearn.model_selection import KFold\n",
    "kf = KFold(n_splits=3)"
   ]
  },
  {
   "cell_type": "code",
   "execution_count": 32,
   "metadata": {},
   "outputs": [
    {
     "name": "stdout",
     "output_type": "stream",
     "text": [
      "TRAIN: [ 3668  3669  3670 ... 11001 11002 11003] VALIDATION: [   0    1    2 ... 3665 3666 3667]\n",
      "TRAIN: [    0     1     2 ... 11001 11002 11003] VALIDATION: [3668 3669 3670 ... 7333 7334 7335]\n",
      "TRAIN: [   0    1    2 ... 7333 7334 7335] VALIDATION: [ 7336  7337  7338 ... 11001 11002 11003]\n"
     ]
    }
   ],
   "source": [
    "for train_index, validation_index in kf.split(M):\n",
    "    print(\"TRAIN:\", train_index, \"VALIDATION:\", validation_index)"
   ]
  },
  {
   "cell_type": "markdown",
   "metadata": {},
   "source": [
    "Напишите метод, позволяющий найти оптимальное количество ближайших соседей(дающее максимальный score в среднем на валидации на 3 фолдах).\n",
    "Постройте график зависимости среднего score от количества соседей. Можно рассмотреть число соседей от 1 до 10."
   ]
  },
  {
   "cell_type": "markdown",
   "metadata": {},
   "source": [
    "убираем слова с общей частотой < 10 (не хватает ОЗУ)"
   ]
  },
  {
   "cell_type": "code",
   "execution_count": 11,
   "metadata": {},
   "outputs": [],
   "source": [
    "word_freq = np.array(M.sum(axis=0))[0]"
   ]
  },
  {
   "cell_type": "code",
   "execution_count": 12,
   "metadata": {},
   "outputs": [],
   "source": [
    "X = M.toarray()\n",
    "X_reduced = X[:, word_freq>10]"
   ]
  },
  {
   "cell_type": "code",
   "execution_count": 56,
   "metadata": {},
   "outputs": [
    {
     "name": "stdout",
     "output_type": "stream",
     "text": [
      "neighbors done\n",
      "neighbors done\n",
      "neighbors done\n"
     ]
    },
    {
     "data": {
      "text/plain": [
       "array([0.        , 0.13913123, 0.1240458 , 0.12459106, 0.12468193,\n",
       "       0.12540894, 0.12586332, 0.12640858, 0.1278626 , 0.13022537,\n",
       "       0.13095238])"
      ]
     },
     "execution_count": 56,
     "metadata": {},
     "output_type": "execute_result"
    }
   ],
   "source": [
    "#%%pycodestyle\n",
    "\n",
    "score = np.zeros(11)\n",
    "\n",
    "for train_index, validation_index in kf.split(M):\n",
    "    my_knn = MyKNeighborsClassifier(n_neighbors=10, algorithm='kd_tree')\n",
    "    my_knn.fit(X_reduced[train_index, :], targets[train_index])\n",
    "    all_indices, all_dists = my_knn.get_nearest_neighbors(\n",
    "        X_reduced[validation_index])\n",
    "    print(\"neighbors done\")\n",
    "    for k in range(1, 11):\n",
    "        my_knn = MyKNeighborsClassifier(\n",
    "            n_neighbors=k, manual_neighbors=True)\n",
    "        my_knn.fit([], targets[train_index], all_indices, all_dists)\n",
    "        score[k] += my_knn.score(\n",
    "            X_reduced[validation_index], targets[validation_index])\n",
    "\n",
    "score /= 3\n",
    "score\n"
   ]
  },
  {
   "cell_type": "code",
   "execution_count": 66,
   "metadata": {},
   "outputs": [
    {
     "name": "stdout",
     "output_type": "stream",
     "text": [
      "maximal score: 0.1391312250090876, k = 1\n"
     ]
    }
   ],
   "source": [
    "print('maximal score: {0}, k = {1}'.format(score.max(), score.argmax()))"
   ]
  },
  {
   "cell_type": "code",
   "execution_count": 58,
   "metadata": {},
   "outputs": [],
   "source": [
    "import pandas as pd\n",
    "my_series = pd.Series(score[1:11])\n",
    "my_series.index = range(1,11)"
   ]
  },
  {
   "cell_type": "code",
   "execution_count": 59,
   "metadata": {},
   "outputs": [
    {
     "data": {
      "image/png": "[encoded data removed]",
      "text/plain": [
       "<Figure size 432x288 with 1 Axes>"
      ]
     },
     "metadata": {
      "needs_background": "light"
     },
     "output_type": "display_data"
    }
   ],
   "source": [
    "plt.plot(my_series)\n",
    "plt.xticks(np.arange(1, 11, 1.0))\n",
    "plt.show()"
   ]
  },
  {
   "cell_type": "markdown",
   "metadata": {},
   "source": [
    "Как изменится качество на валидации, если:\n",
    "\n",
    "1. Используется косинусная метрика вместо евклидовой.\n",
    "2. К текстам применяется TfIdf преобразование( sklearn.feature_extraction.text.TfidfTransformer)\n",
    "\n",
    "Сравните модели, выберите лучшую."
   ]
  },
  {
   "cell_type": "code",
   "execution_count": 15,
   "metadata": {},
   "outputs": [
    {
     "name": "stderr",
     "output_type": "stream",
     "text": [
      "C:\\Users\\gaziz\\Anaconda3\\lib\\site-packages\\scipy\\spatial\\distance.py:702: RuntimeWarning: invalid value encountered in double_scalars\n",
      "  dist = 1.0 - uv / np.sqrt(uu * vv)\n"
     ]
    },
    {
     "name": "stdout",
     "output_type": "stream",
     "text": [
      "neighbors done\n",
      "neighbors done\n",
      "neighbors done\n"
     ]
    },
    {
     "data": {
      "text/plain": [
       "array([0.        , 0.22355507, 0.21065067, 0.2086514 , 0.20683388,\n",
       "       0.20383497, 0.20419847, 0.20438023, 0.20365322, 0.20401672,\n",
       "       0.20556161])"
      ]
     },
     "execution_count": 15,
     "metadata": {},
     "output_type": "execute_result"
    }
   ],
   "source": [
    "#%%pycodestyle\n",
    "\n",
    "score_cosine = np.zeros(11)\n",
    "\n",
    "for train_index, validation_index in kf.split(M):\n",
    "    my_knn = MyKNeighborsClassifier(\n",
    "        n_neighbors=10, algorithm='brute', metric='cosine')\n",
    "    my_knn.fit(X_reduced[train_index, :], targets[train_index])\n",
    "    all_indices, all_dists = my_knn.get_nearest_neighbors(\n",
    "        X_reduced[validation_index])\n",
    "    print(\"neighbors done\")\n",
    "    for k in range(1, 11):\n",
    "        my_knn = MyKNeighborsClassifier(n_neighbors=k, manual_neighbors=True)\n",
    "        my_knn.fit([], targets[train_index], all_indices, all_dists)\n",
    "        score_cosine[k] += my_knn.score(\n",
    "            X_reduced[validation_index], targets[validation_index])\n",
    "\n",
    "score_cosine /= 3\n",
    "score_cosine\n"
   ]
  },
  {
   "cell_type": "code",
   "execution_count": 16,
   "metadata": {},
   "outputs": [
    {
     "name": "stdout",
     "output_type": "stream",
     "text": [
      "maximal score: 0.22355507088331517, k = 1\n"
     ]
    }
   ],
   "source": [
    "print('maximal score: {0}, k = {1}'.format(score_cosine.max(), score_cosine.argmax()))"
   ]
  },
  {
   "cell_type": "code",
   "execution_count": 17,
   "metadata": {},
   "outputs": [
    {
     "data": {
      "image/png": "[encoded data removed]",
      "text/plain": [
       "<Figure size 432x288 with 1 Axes>"
      ]
     },
     "metadata": {
      "needs_background": "light"
     },
     "output_type": "display_data"
    }
   ],
   "source": [
    "import pandas as pd\n",
    "my_series = pd.Series(score_cosine[1:11])\n",
    "my_series.index= range(1,11)\n",
    "plt.plot(my_series)\n",
    "plt.xticks(np.arange(1, 11, 1.0))\n",
    "plt.show()"
   ]
  },
  {
   "cell_type": "markdown",
   "metadata": {},
   "source": [
    "  "
   ]
  },
  {
   "cell_type": "markdown",
   "metadata": {},
   "source": [
    " "
   ]
  },
  {
   "cell_type": "code",
   "execution_count": 13,
   "metadata": {},
   "outputs": [],
   "source": [
    "from sklearn.feature_extraction.text import TfidfTransformer\n",
    "trans = TfidfTransformer()\n",
    "trans.fit(M)\n",
    "M_tfidf = trans.transform(M)"
   ]
  },
  {
   "cell_type": "code",
   "execution_count": 14,
   "metadata": {},
   "outputs": [],
   "source": [
    "X_reduced = M_tfidf[:, word_freq > 10].toarray()"
   ]
  },
  {
   "cell_type": "code",
   "execution_count": 15,
   "metadata": {},
   "outputs": [
    {
     "name": "stdout",
     "output_type": "stream",
     "text": [
      "neighbors done\n",
      "neighbors done\n",
      "neighbors done\n"
     ]
    },
    {
     "data": {
      "text/plain": [
       "array([0.        , 0.33033442, 0.34123955, 0.34778262, 0.34432933,\n",
       "       0.34178481, 0.33796801, 0.33660487, 0.3346056 , 0.33651399,\n",
       "       0.33324246])"
      ]
     },
     "execution_count": 15,
     "metadata": {},
     "output_type": "execute_result"
    }
   ],
   "source": [
    "#%%pycodestyle\n",
    "\n",
    "score_tfidf = np.zeros(11)\n",
    "\n",
    "for train_index, validation_index in kf.split(M_tfidf):\n",
    "    my_knn = MyKNeighborsClassifier(n_neighbors=10, algorithm='kd_tree')\n",
    "    my_knn.fit(X_reduced[train_index, :], targets[train_index])\n",
    "    all_indices, all_dists = my_knn.get_nearest_neighbors(\n",
    "        X_reduced[validation_index])\n",
    "    print(\"neighbors done\")\n",
    "    for k in range(1, 11):\n",
    "        my_knn = MyKNeighborsClassifier(n_neighbors=k, manual_neighbors=True)\n",
    "        my_knn.fit([], targets[train_index], all_indices, all_dists)\n",
    "        score_tfidf[k] += my_knn.score(\n",
    "            X_reduced[validation_index], targets[validation_index])\n",
    "\n",
    "score_tfidf /= 3\n",
    "score_tfidf\n"
   ]
  },
  {
   "cell_type": "code",
   "execution_count": 20,
   "metadata": {},
   "outputs": [
    {
     "name": "stdout",
     "output_type": "stream",
     "text": [
      "maximal score: 0.3477826245001818, k = 3\n"
     ]
    }
   ],
   "source": [
    "print('maximal score: {0}, k = {1}'.format(score_tfidf.max(), score_tfidf.argmax()))"
   ]
  },
  {
   "cell_type": "code",
   "execution_count": 18,
   "metadata": {},
   "outputs": [
    {
     "data": {
      "image/png": "[encoded data removed]",
      "text/plain": [
       "<Figure size 432x288 with 1 Axes>"
      ]
     },
     "metadata": {
      "needs_background": "light"
     },
     "output_type": "display_data"
    }
   ],
   "source": [
    "import pandas as pd\n",
    "my_series = pd.Series(score_tfidf[1:11])\n",
    "my_series.index= range(1,11)\n",
    "plt.plot(my_series)\n",
    "plt.xticks(np.arange(1, 11, 1.0))\n",
    "plt.show()"
   ]
  },
  {
   "cell_type": "markdown",
   "metadata": {},
   "source": [
    "Загрузим  теперь test  часть нашей выборки и преобразуем её аналогично с train частью. Не забудьте, что наборы слов в train и test части могут отличаться."
   ]
  },
  {
   "cell_type": "code",
   "execution_count": 15,
   "metadata": {},
   "outputs": [],
   "source": [
    "newsgroups = fetch_20newsgroups(subset='test',remove=['headers','footers', 'quotes'])"
   ]
  },
  {
   "cell_type": "code",
   "execution_count": 16,
   "metadata": {},
   "outputs": [],
   "source": [
    "data = newsgroups['data']\n",
    "target = newsgroups['target']"
   ]
  },
  {
   "cell_type": "code",
   "execution_count": 17,
   "metadata": {},
   "outputs": [],
   "source": [
    "test_data_tok, test_targets = transform_dataset(data, target)"
   ]
  },
  {
   "cell_type": "code",
   "execution_count": 19,
   "metadata": {},
   "outputs": [],
   "source": [
    "#%%pycodestyle\n",
    "\n",
    "column_indices = []\n",
    "values = []\n",
    "indptr = [0]\n",
    "\n",
    "for text in test_data_tok:\n",
    "    for word in text:\n",
    "        if word in word_position:\n",
    "            index = word_position[word]\n",
    "            column_indices.append(index)\n",
    "            values.append(1)\n",
    "    indptr.append(len(column_indices))\n",
    "\n",
    "M_test = csr_matrix((values, column_indices, indptr))\n"
   ]
  },
  {
   "cell_type": "code",
   "execution_count": 20,
   "metadata": {},
   "outputs": [
    {
     "data": {
      "text/plain": [
       "(7309, 101676)"
      ]
     },
     "execution_count": 20,
     "metadata": {},
     "output_type": "execute_result"
    }
   ],
   "source": [
    "M_test.shape"
   ]
  },
  {
   "cell_type": "code",
   "execution_count": 21,
   "metadata": {},
   "outputs": [],
   "source": [
    "from sklearn.feature_extraction.text import TfidfTransformer\n",
    "trans = TfidfTransformer()\n",
    "trans.fit(M_test)\n",
    "M_tfidf_test = trans.transform(M_test)"
   ]
  },
  {
   "cell_type": "code",
   "execution_count": 22,
   "metadata": {},
   "outputs": [],
   "source": [
    "X_reduced_test = M_tfidf_test[:, word_freq > 10].toarray()"
   ]
  },
  {
   "cell_type": "code",
   "execution_count": 26,
   "metadata": {},
   "outputs": [
    {
     "data": {
      "text/plain": [
       "0.32193186482418934"
      ]
     },
     "execution_count": 26,
     "metadata": {},
     "output_type": "execute_result"
    }
   ],
   "source": [
    "my_knn = MyKNeighborsClassifier(n_neighbors=3, algorithm='kd_tree')\n",
    "my_knn.fit(X_reduced, targets)\n",
    "my_knn.score(X_reduced_test, test_targets)"
   ]
  },
  {
   "cell_type": "markdown",
   "metadata": {},
   "source": [
    " "
   ]
  },
  {
   "cell_type": "markdown",
   "metadata": {},
   "source": [
    "Оценим качество(score) вашей лучшей модели на test части датасета. Отличается ли оно от кросс-валидации? Попробуйте сделать выводы, почему отличается качество."
   ]
  },
  {
   "cell_type": "markdown",
   "metadata": {},
   "source": [
    "Качество лучшей модели на тесте немного меньше, чем на кросс-валидации: 0.322 < 0.348.\n",
    "Я считаю, это может быть связано с тем, что отношение размера теста к трейну на кросс валидации немного меньше, \n",
    "чем соответствующее отношение здесь:   "
   ]
  },
  {
   "cell_type": "code",
   "execution_count": 34,
   "metadata": {},
   "outputs": [
    {
     "data": {
      "text/plain": [
       "0.5"
      ]
     },
     "execution_count": 34,
     "metadata": {},
     "output_type": "execute_result"
    }
   ],
   "source": [
    "len(validation_index) / len(train_index)"
   ]
  },
  {
   "cell_type": "code",
   "execution_count": 35,
   "metadata": {},
   "outputs": [
    {
     "data": {
      "text/plain": [
       "0.6642130134496547"
      ]
     },
     "execution_count": 35,
     "metadata": {},
     "output_type": "execute_result"
    }
   ],
   "source": [
    "len(X_reduced_test) / len(X_reduced)"
   ]
  },
  {
   "cell_type": "markdown",
   "metadata": {},
   "source": [
    "0.5 < 0.66"
   ]
  },
  {
   "cell_type": "markdown",
   "metadata": {},
   "source": [
    "То есть в первом случае трейн покрыл большую часть теста, чем во втором.\n",
    "Возможно из-за этого результаты предсказания там статистически лучше."
   ]
  }
 ],
 "metadata": {
  "kernelspec": {
   "display_name": "Python 3",
   "language": "python",
   "name": "python3"
  },
  "language_info": {
   "codemirror_mode": {
    "name": "ipython",
    "version": 3
   },
   "file_extension": ".py",
   "mimetype": "text/x-python",
   "name": "python",
   "nbconvert_exporter": "python",
   "pygments_lexer": "ipython3",
   "version": "3.7.3"
  }
 },
 "nbformat": 4,
 "nbformat_minor": 2
}
