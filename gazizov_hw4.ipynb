{
 "cells": [
  {
   "cell_type": "markdown",
   "metadata": {},
   "source": [
    "# Алгоритмы интеллектуальной обработки больших объемов данных\n",
    "## Домашнее задание №4 - Алгоритмы кластеризации\n"
   ]
  },
  {
   "cell_type": "markdown",
   "metadata": {},
   "source": [
    "###### <hr\\>\n",
    "**Общая информация**\n",
    "\n",
    "**Срок сдачи:** 10 декабря 2019, 06:00 <br\\>\n",
    "**Штраф за опоздание:** -2 балла после 06:00 10 декабря, -4 балла после 06:00 17 декабря, -6 баллов после 06:00 24 декабря -8 баллов  после 06:00 31 декабря\n",
    "\n",
    "При отправлении ДЗ указывайте фамилию в названии файла Присылать ДЗ необходимо в виде ссылки на свой github репозиторий на почту ml1.sphere@mail.ru с указанием темы в следующем формате:\n",
    "[ML0919, Задание 4] Фамилия Имя\n",
    "\n",
    "Используйте данный Ipython Notebook при оформлении домашнего задания.\n",
    "<hr\\>"
   ]
  },
  {
   "cell_type": "markdown",
   "metadata": {},
   "source": [
    "**Из чего состоит задание:**\n",
    "\n",
    "###### Теоретические вопросы (2 балла)\n",
    "\n",
    "###### Реализация алгоритма кластеризации (5 баллов)\n",
    "\n",
    "###### Боевое применение (3 балла)\n",
    "\n",
    "\n"
   ]
  },
  {
   "cell_type": "markdown",
   "metadata": {},
   "source": [
    "**Штрафные баллы:**\n",
    "\n",
    "1. Невыполнение PEP8 -1 балл\n",
    "2. Отсутствие фамилии в имени скрипта (скрипт должен называться по аналогии со stroykova_hw4.ipynb) -1 балл\n",
    "3. Все строчки должны быть выполнены. Нужно, чтобы output команды можно было увидеть уже в git'е. В противном случае -1 балл\n",
    "4. При оформлении ДЗ нужно пользоваться данным файлом в качестве шаблона. Не нужно удалять и видоизменять написанный код и текст. В противном случае -1 балл"
   ]
  },
  {
   "cell_type": "code",
   "execution_count": 96,
   "metadata": {},
   "outputs": [
    {
     "name": "stdout",
     "output_type": "stream",
     "text": [
      "Populating the interactive namespace from numpy and matplotlib\n",
      "The pycodestyle_magic extension is already loaded. To reload it, use:\n",
      "  %reload_ext pycodestyle_magic\n"
     ]
    }
   ],
   "source": [
    "import time\n",
    "import pandas as pd\n",
    "import pylab as pl\n",
    "import numpy as np\n",
    "import scipy.spatial as ss\n",
    "import sklearn.cluster as sc\n",
    "import sklearn.manifold as sm\n",
    "import sklearn.datasets as ds\n",
    "import sklearn.metrics as smt\n",
    "from sklearn.mixture import GaussianMixture\n",
    "from sklearn.cluster import AgglomerativeClustering\n",
    "\n",
    "import matplotlib.pyplot as plt\n",
    "\n",
    "%matplotlib inline\n",
    "\n",
    "plt.style.use('ggplot')\n",
    "plt.rcParams['figure.figsize'] = (16,9)\n",
    "\n",
    "# Plotting config\n",
    "%pylab inline\n",
    "\n",
    "%load_ext pycodestyle_magic"
   ]
  },
  {
   "cell_type": "markdown",
   "metadata": {},
   "source": [
    "# Теоретическое введение\n"
   ]
  },
  {
   "cell_type": "markdown",
   "metadata": {},
   "source": [
    "Основная задача кластерного анализа — разбиение исходного набора объектов на группы (кластеры) таким образом, чтобы объекты в группе были похожи друг на друга, а объекты из разных групп - отличались. \n",
    "\n",
    "В этой работе мы будем реализовывать агломеративную кластеризацию. "
   ]
  },
  {
   "cell_type": "markdown",
   "metadata": {
    "collapsed": true
   },
   "source": [
    "## Агломеративная кластеризация"
   ]
  },
  {
   "cell_type": "markdown",
   "metadata": {},
   "source": [
    "Иерархические алгоритмы кластеризации строят на выборке систему вложенных разбиений.  Наиболее часто испоьзуемые иерархические алгоритмы - агломеративные алгоритмы, которые строят ирархию по восходящей, то есть от момента, когда все элементы являются отдельными кластерами, до того момента, пока вся выборка не станет одним кластером."
   ]
  },
  {
   "cell_type": "markdown",
   "metadata": {},
   "source": [
    "Сам алгоритм описать можно примерно так:\n",
    "\n",
    "* начинаем с ситуации, когда каждый объект - отдельный кластер\n",
    "* на каждом шаге совмещаем два наиболее близких кластера\n",
    "* останавливаемся, когда получаем требуемое количество или единственный кластер"
   ]
  },
  {
   "cell_type": "markdown",
   "metadata": {},
   "source": [
    "\n",
    "В данной работе Вам предлагается реализовать три варианта расстояний между кластерами, по которым Вы определяете пару для слияния: \n",
    "* Single linkage\n",
    "$$ d_{min}(C_i, C_j) = \\min_{\\mathbf{x} \\in C_i, \\mathbf{x}' \\in C_j} \\|\\mathbf{x} -\\mathbf{x}' \\| $$\n",
    "\n",
    "* Complete linkage\n",
    "$$ d_{max}(C_i, C_j) = \\max_{\\mathbf{x} \\in C_i, \\mathbf{x}' \\in C_j} \\|\\mathbf{x} -\\mathbf{x}' \\| $$\n",
    "\n",
    "* Average linkage\n",
    "$$ d_{avg}(C_i, C_j) = \\frac{1}{n_i n_j}\\sum_{\\mathbf{x} \\in C_i}\\sum_{\\mathbf{x}' \\in C_j} \\|\\mathbf{x} -\\mathbf{x}' \\| $$\n",
    "\n",
    "Как считать расстояние $\\|\\mathbf{x} -\\mathbf{x}' \\|$ между объектами Вы должны выбрать сами.  Вы должны четко понимать, что выбор расстояния между объектами - самое важное в такого рода алгоритмах. Передавайте название расстояния в конструктор класса, а потом, в зависимости от названия, применяете ту или иную функцию для подсчета расстояния. \n",
    "\n"
   ]
  },
  {
   "cell_type": "markdown",
   "metadata": {},
   "source": [
    "Для того, чтобы на втором этапе нам не пересчитывать заново расстояния между всеми парами кластеров, можно использовать Формулы Ланса-Вильямса, которые позволяют посчитать расстояние между кластерами после объединения, используя только расстояния между кластерами до объедения.  Таким образом, достаточно будет посчитать расстояния только между всеми одноэлементными кластерами (первый этап), а затем пересчитывать расстояния при их объединении через \n",
    "формулы Ланса-Вильямса. \n",
    "\n",
    "Общая  формула выглядит так:\n",
    "$$ d(C_i \\cup C_j, C_k) = a_i \\cdot d(C_i, C_k) + a_j \\cdot d(C_j, C_k) + b \\cdot d(C_i, C_j) + c \\cdot |d(C_i, C_k) - d(C_j, C_k)|$$\n",
    "\n",
    "Можно показать, что все относительно разумные кластерные расстояния можно описать данной формулой. \n",
    "\n",
    "Для интересущих нас linkage:\n",
    "\n",
    "* single-linkage       $a_i = \\frac{1}{2}, a_j =  \\frac{1}{2}, b = 0, c =  - \\frac{1}{2} $\n",
    "\n",
    "* complete-linkage     $a_i = \\frac{1}{2}, a_j =  \\frac{1}{2}, b = 0, c =   \\frac{1}{2} $\n",
    "\n",
    "* average-linkage       $a_i = \\frac{|C_i|}{|C_i \\cup C_j|}, a_j =  \\frac{|C_j|}{|C_i \\cup C_j|}, b = 0, c = 0 $\n",
    "\n"
   ]
  },
  {
   "cell_type": "markdown",
   "metadata": {},
   "source": [
    "# Теоретические вопросы (2 балла)\n",
    "В этой части Вам будут предложены теоретичские вопросы и задачи по теме. Вы, конечно, можете списать их у своего товарища или найти решение в интернете, но учтите, что они обязательно войдут в теоретический коллоквиум. Лучше разобраться в теме сейчас и успешно ответить на коллоквиуме, чем списать, не разобравшись в материале, и быть терзаемым совестью. \n",
    "\n",
    "\n",
    "Формулы надо оформлять в формате **LaTeX**."
   ]
  },
  {
   "cell_type": "markdown",
   "metadata": {},
   "source": [
    "Задача 1. Сходимость kmeans.\n",
    "\n",
    "Докажите, что kmeans всегда сходится, и итераций не будет превышать $k^N$, где $k$ $-$ число кластеров, $N$ $-$ число объектов\n",
    "\n",
    "Подсказка: Вам стоит рассмотреть функционал, который минимизирует алгоритм, и подумать, как он изменяется на E шаге и на M шаге.\n",
    "\n"
   ]
  },
  {
   "cell_type": "markdown",
   "metadata": {},
   "source": [
    "***Ваше решение здесь***\n",
    "\n",
    "$Всего \\ возможно:  \\ \\ \\ \\ \\underbrace{k * k * ... * k}_{N} = k^N  \\ \\ \\ \\   разбиений \\ множества \\ из \\ N \\ элементов \\ на \\ k \\ кластеров. $\n",
    "\n",
    "На каждой итерации алгоритма меняется разбиение выборки на кластеры и пересчитываются центры кластеров, уменьшая таким\n",
    "образом значение функционала:\n",
    "\n",
    "$$Q = \\sum_{n=1}^{N} \\sum_{k=1}^{K} r_{n,k} ||x_n - \\mu_k||^2 .$$\n",
    "\n",
    "Если на какой-то итерации разбиение не поменялось по сравнению с предыдущим, то в этой итерации не поменяются и центры кластеров. А значит на следующей итерации тоже ничего не поменяется. Следовательно, сходимость функционала.\n",
    "\n",
    " \n",
    "Разбиений  $<= k^N$, следовательно этим же значением ограничивается число итераций алгоритма.\n",
    "\n",
    "\n",
    "Случай повторного попадания на то же самое разбиение и, следовательно, на те же пересчитанные центры через какое-то количество итераций исключается тем, что каждое новое разбиение и связанный с ним пересчёт центров минимизируют функционал.\n",
    "А в таком случае мы вновь придём к этому же значению функционала, что противоречит идее его минимизации.  \n"
   ]
  },
  {
   "cell_type": "markdown",
   "metadata": {},
   "source": [
    "  "
   ]
  },
  {
   "cell_type": "markdown",
   "metadata": {},
   "source": [
    " "
   ]
  },
  {
   "cell_type": "markdown",
   "metadata": {},
   "source": [
    "Задача 2.  ММП для многомерного нормального распределения.\n",
    "\n",
    "Функция правдоподобия в общем случае записывается как:\n",
    "￼\n",
    "￼$$ L(\\theta) = p(X | \\theta ) = \\prod_{i=1}^N p(x_i | \\theta)$$\n",
    "\n",
    "Для многомерного нормального распределения плотность вероятности:\n",
    "$$p(x_i| \\theta) = \\frac{1}{(2\\pi)^{n/2}|\\Sigma|^{1/2}}e^{-\\frac{1}{2} (x_i - \\mu)^T\\Sigma^{-1}(x_i - \\mu)}$$\n",
    "\n",
    "Выведите ММП оценку для вектора $\\mu$\n",
    "￼"
   ]
  },
  {
   "cell_type": "markdown",
   "metadata": {},
   "source": [
    "***Ваше решение здесь***\n",
    "\n",
    "$$ \\mu = \\frac{1}{N} \\sum_{i=1}^{N} x_i$$"
   ]
  },
  {
   "cell_type": "markdown",
   "metadata": {},
   "source": [
    "Задача 3. Формулы Ланса-Вильямса.\n",
    "\n",
    "Формулы Ланса-Вильямса крайне удобны для быстрого пересчта расстояний в агломеративной кластеризации. Давайте докажем  формулы для single и complete linkage. \n",
    "\n",
    "Докажите, что:\n",
    "\n",
    "$d_{\\min}(U \\cup V, S) = \\frac{1}{2} d_{\\min}(U, S) + \\frac{1}{2} d_{\\min}(V, S)  - \\frac{1}{2} | d_{\\min}(U, S) - d_{\\min}(V, S) |  $\n",
    "\n",
    "\n",
    "$d_{\\max}(U \\cup V, S) = \\frac{1}{2} d_{\\max}(U, S) + \\frac{1}{2} d_{\\max}(V, S)  + \\frac{1}{2} | d_{\\max}(U, S) - d_{\\max}(V, S) |  $\n",
    "\n",
    "\n"
   ]
  },
  {
   "cell_type": "markdown",
   "metadata": {},
   "source": []
  },
  {
   "cell_type": "markdown",
   "metadata": {},
   "source": [
    "***Ваше решение здесь***"
   ]
  },
  {
   "cell_type": "markdown",
   "metadata": {},
   "source": [
    "1) Первая формула\n",
    "\n",
    "\n",
    "Очевидно, что $d_{\\min}(U \\cup V, S) = min(d_{\\min}(U, S), d_{\\min}(V, S))$ \n",
    "\n",
    "\n",
    "Возможно три случая:\n",
    "<ol>\n",
    "    <li>\n",
    "$d_{\\min}(U, S) < d_{\\min}(V, S)$\n",
    "        \n",
    "то есть :  $d_{\\min}(U \\cup V, S) = d_{\\min}(U, S)$, \n",
    "\n",
    "Получим это:\n",
    "\n",
    "$d_{\\min}(U, S) < d_{\\min}(V, S) \\Rightarrow \\\\ \n",
    "| d_{\\min}(U, S) - d_{\\min}(V, S) | =  - ( d_{\\min}(U, S) - d_{\\min}(V, S) ) =  d_{\\min}(V, S) - d_{\\min}(U, S)  \\Rightarrow \\\\ \\\\\n",
    " \\frac{1}{2} d_{\\min}(U, S) + \\frac{1}{2} d_{\\min}(V, S)  - \\frac{1}{2} | d_{\\min}(U, S) - d_{\\min}(V, S) |  \\\\\n",
    "=\\frac{1}{2} d_{\\min}(U, S) + \\frac{1}{2} d_{\\min}(V, S)  - \\frac{1}{2} d_{\\min}(V, S) + \\frac{1}{2} d_{\\min}(U, S) \\\\\n",
    "= d_{\\min}(U, S) = d_{\\min}(U \\cup V, S)$\n",
    "\n",
    "</li>\n",
    "<br><br>\n",
    "<li>\n",
    "$d_{\\min}(U, S) > d_{\\min}(V, S)$ \n",
    "    \n",
    "Аналогично\n",
    "\n",
    "\n",
    "</li>\n",
    "<br>\n",
    "<li>\n",
    "    \n",
    "$d_{\\min}(U, S) = d_{\\min}(V, S)$\n",
    "    \n",
    "то есть $d_{\\min}(U \\cup V, S) = d_{\\min}(U, S) = d_{\\min}(V, S)$, \n",
    "\n",
    "такое выражение очевидным образом получается из равенства нулю модуля\n",
    "</li>\n",
    "</ol>\n"
   ]
  },
  {
   "cell_type": "markdown",
   "metadata": {},
   "source": [
    "<br>\n",
    "2) Вторая формула\n",
    "\n",
    "\n",
    "Очевидно, что $d_{\\max}(U \\cup V, S) = max(d_{\\max}(U, S), d_{\\max}(V, S))$\n",
    "\n",
    "Рассмотрим случай: $d_{\\max}(U, S) > d_{\\max}(V, S)$, то есть:  $d_{\\max}(U \\cup V, S) = d_{\\max}(U, S)$, \n",
    "\n",
    "Получим это:\n",
    "\n",
    "$d_{\\max}(U, S) > d_{\\max}(V, S) \\Rightarrow \\\\ \n",
    "| d_{\\max}(U, S) - d_{\\max}(V, S) | =  d_{\\max}(U, S) - d_{\\max}(V, S)  \\Rightarrow \\\\ \n",
    " \\frac{1}{2} d_{\\max}(U, S) + \\frac{1}{2} d_{\\max}(V, S)  + \\frac{1}{2} | d_{\\max}(U, S) - d_{\\max}(V, S) |  \\\\\n",
    "=\\frac{1}{2} d_{\\max}(U, S) + \\frac{1}{2} d_{\\max}(V, S)  + \\frac{1}{2} d_{\\max}(U, S) - \\frac{1}{2} d_{\\max}(V, S) \\\\\n",
    "= d_{\\max}(U, S) = d_{\\max}(U \\cup V, S)$\n",
    "\n",
    "Аналогично для случаев  $d_{\\min}(U, S) > d_{\\min}(V, S)$ и $d_{\\min}(U, S) = d_{\\min}(V, S)$."
   ]
  },
  {
   "cell_type": "markdown",
   "metadata": {},
   "source": [
    "# Реализация алгоритма кластеризации  (5 баллов)"
   ]
  },
  {
   "cell_type": "markdown",
   "metadata": {},
   "source": [
    "Алгоритм кластеризации должен удовлетворять следующему интерфейсу. Конструктор принимает набор параметров, необходимых для работы алгоритма кластеризации. Метод `fit` подсчитывает параметры модели и возвращает `self`. Метод `predict` возвращает вектор с индексами кластеров для поданных в него объектов `x`. "
   ]
  },
  {
   "cell_type": "code",
   "execution_count": 144,
   "metadata": {},
   "outputs": [],
   "source": [
    "# %%pycodestyle\n",
    "\n",
    "\n",
    "from sklearn.base import BaseEstimator, ClusterMixin\n",
    "from scipy.cluster.hierarchy import linkage, dendrogram\n",
    "from scipy.spatial.distance import pdist\n",
    "from scipy.spatial.distance import squareform\n",
    "\n",
    "\n",
    "class Clustering(BaseEstimator, ClusterMixin):\n",
    "    \"\"\"\n",
    "    Implement clustering algorithm according\n",
    "    \"\"\"\n",
    "\n",
    "    def __init__(self, metric, **kwargs):\n",
    "\n",
    "        if metric == 'your_favourite_metric':\n",
    "            metric = 'euclidean'\n",
    "        self.metric = metric\n",
    "\n",
    "        if 'method' in kwargs:\n",
    "            self.method = kwargs['method']\n",
    "        else:\n",
    "            self.method = 'single'\n",
    "\n",
    "        if 'n_clusters' in kwargs:\n",
    "            self.n_clusters = kwargs['n_clusters']\n",
    "        else:\n",
    "            self.n_clusters = 2\n",
    "\n",
    "        \"\"\"\n",
    "        metric - string with name of metric, for example, euclidean\n",
    "        Please add necessary algoritm parameters to class constructor.\n",
    "        \"\"\"\n",
    "\n",
    "        return\n",
    "\n",
    "    def fit(self, X):\n",
    "        n = len(X)\n",
    "        cl_dists = squareform(pdist(X, self.metric))\n",
    "\n",
    "        cluster = n\n",
    "\n",
    "        clusters = np.array([np.arange(n)])\n",
    "        linkage = []\n",
    "        CL = clusters[0]\n",
    "\n",
    "        i = 0\n",
    "        while True:\n",
    "            CL, CL_ind = np.unique(CL, return_index=True)\n",
    "            cl_dists = cl_dists[np.ix_(CL_ind, CL_ind)]\n",
    "\n",
    "            min_ind = cl_dists[np.eye(len(cl_dists)) == 0].argmin()\n",
    "            min_ind = min_ind + min_ind // (cl_dists.shape[1] - 1) + 1\n",
    "            nrst = np.unravel_index(min_ind, cl_dists.shape)\n",
    "\n",
    "            min_dist = cl_dists[nrst]\n",
    "            cl_0 = CL[nrst[0]]\n",
    "            cl_1 = CL[nrst[1]]\n",
    "\n",
    "            d0 = cl_dists[(CL != cl_0) * (CL != cl_1), CL == cl_0]\n",
    "            d1 = cl_dists[(CL != cl_0) * (CL != cl_1), CL == cl_1]\n",
    "\n",
    "            cl_lst, cl_count = np.unique(clusters[i], return_counts=True)\n",
    "            union_sum = cl_count[cl_lst == cl_0][0] + \\\n",
    "                cl_count[cl_lst == cl_1][0]\n",
    "\n",
    "            if self.method == 'single':\n",
    "                a_0 = 1 / 2\n",
    "                a_1 = 1 / 2\n",
    "                c = -1 / 2\n",
    "            elif self.method == 'complete':\n",
    "                a_0 = 1 / 2\n",
    "                a_1 = 1 / 2\n",
    "                c = 1 / 2\n",
    "            elif self.method == 'average':\n",
    "                a_0 = cl_count[cl_lst == cl_0][0] / union_sum\n",
    "                a_1 = cl_count[cl_lst == cl_1][0] / union_sum\n",
    "                c = 0\n",
    "\n",
    "            new_dist = a_0 * d0 + a_1 * d1 + c * np.absolute(d0 - d1)\n",
    "\n",
    "            CL[CL == cl_0] = cluster\n",
    "            CL[CL == cl_1] = cluster\n",
    "\n",
    "            cl_dists[np.ix_(CL == cluster, CL != cluster)\n",
    "                     ] = new_dist.reshape(1, -1)\n",
    "            cl_dists[np.ix_(CL != cluster, CL == cluster)\n",
    "                     ] = new_dist.reshape(-1, 1)\n",
    "\n",
    "            cl_dists[np.ix_(CL == cluster, CL == cluster)] = 0\n",
    "\n",
    "            clusters[i][clusters[i] == cl_0] = cluster\n",
    "            clusters[i][clusters[i] == cl_1] = cluster\n",
    "\n",
    "            linkage.append([cl_0, cl_1, min_dist, union_sum])\n",
    "\n",
    "            cluster += 1\n",
    "\n",
    "            if clusters[i].min() == clusters[i].max():\n",
    "                self.linkage = linkage\n",
    "                self.clusters = clusters\n",
    "                return self\n",
    "\n",
    "            clusters = np.append(clusters, [clusters[i]], axis=0)\n",
    "            i += 1\n",
    "\n",
    "    def fit_predict(self, x):\n",
    "        \"\"\"\n",
    "        Use data matrix x to compute model parameters and predict clusters\n",
    "        \"\"\"\n",
    "\n",
    "        self.x_len = len(x)\n",
    "        preds = pred_iris = [0] * self.x_len\n",
    "        self.fit(x)\n",
    "\n",
    "        preds = self.clusters[-self.n_clusters]\n",
    "        for i in range(self.n_clusters):\n",
    "            preds[preds == preds.max()] = i\n",
    "\n",
    "        return preds\n",
    "\n",
    "    def plot_dendrogram(self):\n",
    "        \"\"\"\n",
    "        Try to visualize our data\n",
    "        \"\"\"\n",
    "        dendrogram(self.linkage, leaf_rotation=90)\n",
    "        plt.figure(figsize=(20, 10))\n",
    "        plt.show()\n"
   ]
  },
  {
   "cell_type": "markdown",
   "metadata": {},
   "source": [
    "Сначала проверим реализованный алгоритм кластеризации на классическом наборе данных [Iris](http://www.wikiwand.com/en/Iris_flower_data_set). Загрузим данные (они включены в библиотеку sklearn) и посмотрим на то, как они выглядят в двух проекциях (для простоты используем 2 класса из 3)."
   ]
  },
  {
   "cell_type": "code",
   "execution_count": 145,
   "metadata": {},
   "outputs": [
    {
     "data": {
      "image/png": "[encoded data removed]",
      "text/plain": [
       "<Figure size 720x360 with 2 Axes>"
      ]
     },
     "metadata": {
      "needs_background": "light"
     },
     "output_type": "display_data"
    }
   ],
   "source": [
    "iris = ds.load_iris()\n",
    "x_iris = iris.data[:100]\n",
    "y_iris = iris.target[:100]\n",
    "\n",
    "pl.figure(figsize=(10, 5))\n",
    "\n",
    "pl.subplot(1, 2, 1)\n",
    "pl.scatter(x_iris[:, 0], x_iris[:, 1], c=y_iris, cmap=pl.cm.PuOr, lw=0, s=30)\n",
    "plt.xlabel('Sepal length')\n",
    "plt.ylabel('Sepal width')\n",
    "\n",
    "pl.subplot(1, 2, 2)\n",
    "pl.scatter(x_iris[:, 2], x_iris[:, 3], c=y_iris, cmap=pl.cm.PuOr, lw=0, s=30)\n",
    "plt.xlabel('Petal length')\n",
    "plt.ylabel('Petal width')\n",
    "pl.show()"
   ]
  },
  {
   "cell_type": "markdown",
   "metadata": {},
   "source": [
    "Видно, что классы разделяются, поэтому можно надеяться, что наш алгоритм \"найдет\" кластеры, соответствующие исходным классам. Результат работы реализованного алгоритма кластеризации предлагается сравнить с эталонной кластеризацией. Для этого предлагается изучить метрику ([adjusted rand score](http://scikit-learn.org/stable/modules/generated/sklearn.metrics.adjusted_rand_score.html)). В случае если значение этой метрики отличается от 1, предлагается поработать над улучшением реализации своего алгоритма."
   ]
  },
  {
   "cell_type": "code",
   "execution_count": 157,
   "metadata": {},
   "outputs": [
    {
     "name": "stdout",
     "output_type": "stream",
     "text": [
      "[1 1 1 1 1 1 1 1 1 1 1 1 1 1 1 1 1 1 1 1 1 1 1 1 1 1 1 1 1 1 1 1 1 1 1 1 1\n",
      " 1 1 1 1 1 1 1 1 1 1 1 1 1 0 0 0 0 0 0 0 0 0 0 0 0 0 0 0 0 0 0 0 0 0 0 0 0\n",
      " 0 0 0 0 0 0 0 0 0 0 0 0 0 0 0 0 0 0 0 0 0 0 0 0 0 0]\n",
      " Sklearn AGGL score 1.0. Sklearn AGGL time 0.009420633316040039\n"
     ]
    }
   ],
   "source": [
    "# Давайте проверим, как справляются sklearn реализации\n",
    "sklearn_aggl = AgglomerativeClustering(n_clusters=2)\n",
    "aggl_t0 = time.time()\n",
    "aggl_pred = sklearn_aggl.fit_predict(x_iris)\n",
    "print(aggl_pred)\n",
    "aggl_diff = time.time() - aggl_t0\n",
    "aggl_score = smt.adjusted_rand_score(y_iris, aggl_pred)\n",
    "print (\" Sklearn AGGL score {}. Sklearn AGGL time {}\".format(aggl_score, aggl_diff))"
   ]
  },
  {
   "cell_type": "code",
   "execution_count": 158,
   "metadata": {},
   "outputs": [
    {
     "name": "stdout",
     "output_type": "stream",
     "text": [
      "[1 1 1 1 1 1 1 1 1 1 1 1 1 1 1 1 1 1 1 1 1 1 1 1 1 1 1 1 1 1 1 1 1 1 1 1 1\n",
      " 1 1 1 1 1 1 1 1 1 1 1 1 1 0 0 0 0 0 0 0 0 0 0 0 0 0 0 0 0 0 0 0 0 0 0 0 0\n",
      " 0 0 0 0 0 0 0 0 0 0 0 0 0 0 0 0 0 0 0 0 0 0 0 0 0 0]\n",
      "Our AGGL score 1.0. Our AGGL time 0.03719902038574219\n"
     ]
    }
   ],
   "source": [
    "# Здесь предскажем кластера, посчитаем метрику кластеризации и время работы, сравним со склерном\n",
    "сustum_aggl = Clustering(metric='your_favourite_metric', method='single')\n",
    "aggl_t0 = time.time()\n",
    "aggl_pred = сustum_aggl.fit_predict(x_iris)\n",
    "print(aggl_pred)\n",
    "aggl_diff = time.time() - aggl_t0\n",
    "aggl_score = smt.adjusted_rand_score(y_iris, aggl_pred)\n",
    "print (\"Our AGGL score {}. Our AGGL time {}\".format(aggl_score, aggl_diff))"
   ]
  },
  {
   "cell_type": "markdown",
   "metadata": {
    "collapsed": true
   },
   "source": [
    "# Боевое применение (3  балла)\n"
   ]
  },
  {
   "cell_type": "markdown",
   "metadata": {
    "collapsed": true
   },
   "source": [
    "Алгоритмы кластеризации прекрасны тем, что они позволяют быстро понять, как устроены наши данные. Давайте применим Ваш алгоритм для нашего конкурса!"
   ]
  },
  {
   "cell_type": "markdown",
   "metadata": {},
   "source": [
    "Будем рассматривать каждую группу независимо от других групп. На каждой группе применим наш алгоритм и отрисуем денденограмму. По результатам кластерного анализа, Вам нужно ответить на следующие вопросы:\n",
    "\n",
    "1) Можно ли по дендонаграмме (или по другим результатам кластеризации) сказать, где в группе аномалии? Каким образом?\n",
    "\n",
    "2) Какое расстояние лучше использовать между заголовками страниц для кластеризации? \n",
    "\n",
    "2) Какое качество f1_score Вы смогли получить на обучающем множестве методами кластеризации? (валидацию можете не делать, если таргет не используете)\n",
    "\n",
    "4) Как можно результат кластеризации затем использовать для  финальной модели обучения с учителем?"
   ]
  },
  {
   "cell_type": "markdown",
   "metadata": {},
   "source": [
    "Подсказка: самое важное - выбрать расстояние между заголовками. Самый простой вариант:  процент различных слов в двух заголовках."
   ]
  },
  {
   "cell_type": "code",
   "execution_count": 6,
   "metadata": {},
   "outputs": [
    {
     "name": "stdout",
     "output_type": "stream",
     "text": [
      "28026\n"
     ]
    }
   ],
   "source": [
    "doc_to_title = {}\n",
    "with open('docs_titles.tsv', encoding='utf-8') as f:\n",
    "    for num_line, line in enumerate(f):\n",
    "        if num_line == 0:\n",
    "            continue\n",
    "        data = line.strip().split('\\t', 1)\n",
    "        doc_id = int(data[0])\n",
    "        if len(data) == 1:\n",
    "            title = ''\n",
    "        else:\n",
    "            title = data[1]\n",
    "        doc_to_title[doc_id] = title\n",
    "print(len(doc_to_title))"
   ]
  },
  {
   "cell_type": "code",
   "execution_count": 7,
   "metadata": {},
   "outputs": [],
   "source": [
    "train_data = pd.read_csv('train_groups.csv')\n",
    "traingroups_titledata = {}\n",
    "for i in range(len(train_data)):\n",
    "    new_doc = train_data.iloc[i]\n",
    "    doc_group = new_doc['group_id']\n",
    "    doc_id = new_doc['doc_id']\n",
    "    target = new_doc['target']\n",
    "    title = doc_to_title[doc_id]\n",
    "    if doc_group not in traingroups_titledata:\n",
    "        traingroups_titledata[doc_group] = []\n",
    "    traingroups_titledata[doc_group].append((doc_id, title, target))"
   ]
  },
  {
   "cell_type": "markdown",
   "metadata": {},
   "source": [
    "Кластеризацию проводите в каждой группе отдельно, то есть изучайте, можно ли в группе  найти подкластер выбросов\n",
    "\n",
    "Документы можно представлять, например, словами из тайтла.\n",
    "\n",
    "Главное подобрать хорошую функцию расстояния между документами\n"
   ]
  },
  {
   "cell_type": "markdown",
   "metadata": {},
   "source": [
    "Замечание: в кластеризации можно использовать все данные, то есть трейн + тест, чтобы находить больше закономерностей "
   ]
  },
  {
   "cell_type": "code",
   "execution_count": null,
   "metadata": {},
   "outputs": [],
   "source": [
    "# Место для Вашего кластерного анализа"
   ]
  },
  {
   "cell_type": "markdown",
   "metadata": {},
   "source": [
    "1)Для предварительной обработки текста я использую nltk \n",
    "и стеммер Портера для русских слов (распологается в одной из ячеек снизу).\n",
    "\n",
    "2)Для векторизованного представления слов \n",
    "я использую onehot-матрицу (либо модель Bag of Words, либо ещё с tfidf-преобразованием). "
   ]
  },
  {
   "cell_type": "code",
   "execution_count": 10,
   "metadata": {},
   "outputs": [],
   "source": [
    "import nltk\n",
    "from nltk.stem import PorterStemmer\n",
    "from scipy.sparse import csr_matrix\n",
    "from sklearn.feature_extraction.text import TfidfTransformer\n",
    "PorterEnglish = PorterStemmer()\n",
    "PorterRussian = PorterRussian()\n",
    "\n",
    "def my_stem(word):\n",
    "    if re.search(r'[а-яА-ЯёЁ]', word):\n",
    "        return PorterRussian.stem(word)\n",
    "    else:\n",
    "        return PorterEnglish.stem(word)"
   ]
  },
  {
   "cell_type": "code",
   "execution_count": 162,
   "metadata": {},
   "outputs": [],
   "source": [
    "# %%pycodestyle\n",
    "\n",
    "\n",
    "def make_matrix(texts, mode=None):\n",
    "    indptr = [0]\n",
    "    column_indices = []\n",
    "    values = []\n",
    "    word_position = {}\n",
    "\n",
    "    for text in texts:\n",
    "        for word in text:\n",
    "            index = word_position.setdefault(word, len(word_position))\n",
    "            column_indices.append(index)\n",
    "            values.append(1)\n",
    "        indptr.append(len(column_indices))\n",
    "\n",
    "    M = csr_matrix((values, column_indices, indptr), dtype=int)\n",
    "\n",
    "    if mode == 'tfidf':\n",
    "        trans = TfidfTransformer()\n",
    "        trans.fit(M)\n",
    "        M = trans.transform(M)\n",
    "\n",
    "    elif mode == 'onehot':\n",
    "        M[M != 0] = 1\n",
    "\n",
    "    return M\n"
   ]
  },
  {
   "cell_type": "code",
   "execution_count": 206,
   "metadata": {},
   "outputs": [],
   "source": [
    "# %%pycodestyle\n",
    "\n",
    "# Функция для нахождения расстояний между заголовками\n",
    "\n",
    "\n",
    "def f(x, y):\n",
    "    union_cnt = ((x != 0) + (y != 0)).sum()\n",
    "    if union_cnt == 0:\n",
    "        return 0\n",
    "    else:\n",
    "        return 1 - ((x != 0) * (y != 0)).sum() / union_cnt\n"
   ]
  },
  {
   "cell_type": "code",
   "execution_count": 207,
   "metadata": {},
   "outputs": [
    {
     "name": "stderr",
     "output_type": "stream",
     "text": [
      "C:\\Users\\gaziz\\Anaconda3\\lib\\site-packages\\sklearn\\metrics\\classification.py:1437: UndefinedMetricWarning: F-score is ill-defined and being set to 0.0 due to no predicted samples.\n",
      "  'precision', 'predicted', average, warn_for)\n"
     ]
    }
   ],
   "source": [
    "# %%pycodestyle\n",
    "# Я проведу кластеризацию с разными параметрами в каждой из групп трейна\n",
    "\n",
    "\n",
    "to_data = []\n",
    "for group_id in traingroups_titledata:\n",
    "    group = traingroups_titledata[group_id]\n",
    "    X = [nltk.word_tokenize(\n",
    "        re.sub(r'\\W|\\d', ' ', obj[1].lower())) for obj in group]\n",
    "    X = [(list(map(lambda word: my_stem(word), x))) for x in X]\n",
    "    y = [obj[2] for obj in group]\n",
    "    y_true = np.array(y)\n",
    "\n",
    "    for cl_method in ['single', 'complete', 'average']:\n",
    "        M = make_matrix(X, \"onehot\").toarray()\n",
    "        my = Clustering(metric=f, method=cl_method)\n",
    "        y_pred = my.fit_predict(M)\n",
    "        y_pred2 = np.zeros(len(y_pred), dtype=int)\n",
    "        y_pred2[y_pred == 0] = 1\n",
    "        f1_score = smt.f1_score(y_true, y_pred)\n",
    "        f1_score2 = smt.f1_score(y_true, y_pred2)\n",
    "        aggl_score = smt.adjusted_rand_score(y_true, y_pred)\n",
    "\n",
    "        res = {}\n",
    "        res['group_id'] = group_id\n",
    "        res['matrix_mode'] = 'onehot'\n",
    "        res['matrix_shape'] = M.shape\n",
    "        res['clustering_method'] = my.method\n",
    "        res['metric'] = 'f: % несовпадающих слов'\n",
    "        res['f1_score_v1'] = f1_score\n",
    "        res['f1_score_v2'] = f1_score2\n",
    "        res['f1_score_max'] = max(f1_score, f1_score2)\n",
    "        res['adjusted_rand_score'] = aggl_score\n",
    "        to_data.append(res)\n",
    "\n",
    "        M = make_matrix(X, 'tfidf').toarray()\n",
    "        my = Clustering(metric='cosine', method=cl_method)\n",
    "        y_pred = my.fit_predict(M)\n",
    "        y_pred2 = np.zeros(len(y_pred), dtype=int)\n",
    "        y_pred2[y_pred == 0] = 1\n",
    "        f1_score = smt.f1_score(y_true, y_pred)\n",
    "        f1_score2 = smt.f1_score(y_true, y_pred2)\n",
    "        aggl_score = smt.adjusted_rand_score(y_true, y_pred)\n",
    "\n",
    "        res = {}\n",
    "        res['group_id'] = group_id\n",
    "        res['matrix_mode'] = 'tfidf'\n",
    "        res['matrix_shape'] = M.shape\n",
    "        res['clustering_method'] = my.method\n",
    "        res['metric'] = 'cosine'\n",
    "        res['f1_score_v1'] = f1_score\n",
    "        res['f1_score_v2'] = f1_score2\n",
    "        res['f1_score_max'] = max(f1_score, f1_score2)\n",
    "        res['adjusted_rand_score'] = aggl_score\n",
    "        to_data.append(res)\n",
    "\n",
    "        M = make_matrix(X, None).toarray()\n",
    "        my = Clustering(metric='euclidean', method=cl_method)\n",
    "        y_pred = my.fit_predict(M)\n",
    "        y_pred2 = np.zeros(len(y_pred), dtype=int)\n",
    "        y_pred2[y_pred == 0] = 1\n",
    "        f1_score = smt.f1_score(y_true, y_pred)\n",
    "        f1_score2 = smt.f1_score(y_true, y_pred2)\n",
    "        aggl_score = smt.adjusted_rand_score(y_true, y_pred)\n",
    "\n",
    "        res = {}\n",
    "        res['group_id'] = group_id\n",
    "        res['matrix_mode'] = 'bag of words'\n",
    "        res['matrix_shape'] = M.shape\n",
    "        res['clustering_method'] = my.method\n",
    "        res['metric'] = 'euclidean'\n",
    "        res['f1_score_v1'] = f1_score\n",
    "        res['f1_score_v2'] = f1_score2\n",
    "        res['f1_score_max'] = max(f1_score, f1_score2)\n",
    "        res['adjusted_rand_score'] = aggl_score\n",
    "        to_data.append(res)\n"
   ]
  },
  {
   "cell_type": "code",
   "execution_count": 100,
   "metadata": {},
   "outputs": [],
   "source": [
    "df = pd.DataFrame(to_data)"
   ]
  },
  {
   "cell_type": "code",
   "execution_count": 178,
   "metadata": {},
   "outputs": [],
   "source": [
    "df.sort_values(by=['f1_score_max', 'adjusted_rand_score'],\n",
    "               ascending=[False, False], inplace=True)\n"
   ]
  },
  {
   "cell_type": "code",
   "execution_count": 182,
   "metadata": {},
   "outputs": [],
   "source": [
    "with open('experiment.csv', mode='w', encoding='utf-8') as f_csv:\n",
    "    df.to_csv(f_csv, index=False)\n"
   ]
  },
  {
   "cell_type": "code",
   "execution_count": 105,
   "metadata": {},
   "outputs": [
    {
     "data": {
      "text/html": [
       "<div>\n",
       "<style scoped>\n",
       "    .dataframe tbody tr th:only-of-type {\n",
       "        vertical-align: middle;\n",
       "    }\n",
       "\n",
       "    .dataframe tbody tr th {\n",
       "        vertical-align: top;\n",
       "    }\n",
       "\n",
       "    .dataframe thead th {\n",
       "        text-align: right;\n",
       "    }\n",
       "</style>\n",
       "<table border=\"1\" class=\"dataframe\">\n",
       "  <thead>\n",
       "    <tr style=\"text-align: right;\">\n",
       "      <th></th>\n",
       "      <th>adjusted_rand_score</th>\n",
       "      <th>clustering_method</th>\n",
       "      <th>f1_score_max</th>\n",
       "      <th>f1_score_v1</th>\n",
       "      <th>f1_score_v2</th>\n",
       "      <th>group_id</th>\n",
       "      <th>matrix_mode</th>\n",
       "      <th>matrix_shape</th>\n",
       "      <th>metric</th>\n",
       "    </tr>\n",
       "  </thead>\n",
       "  <tbody>\n",
       "    <tr>\n",
       "      <th>1083</th>\n",
       "      <td>0.727513</td>\n",
       "      <td>complete</td>\n",
       "      <td>0.983784</td>\n",
       "      <td>0.983784</td>\n",
       "      <td>0.000000</td>\n",
       "      <td>121</td>\n",
       "      <td>onehot</td>\n",
       "      <td>(99, 138)</td>\n",
       "      <td>f: % несовпадающих слов</td>\n",
       "    </tr>\n",
       "    <tr>\n",
       "      <th>684</th>\n",
       "      <td>-0.014906</td>\n",
       "      <td>single</td>\n",
       "      <td>0.979592</td>\n",
       "      <td>0.020408</td>\n",
       "      <td>0.979592</td>\n",
       "      <td>77</td>\n",
       "      <td>onehot</td>\n",
       "      <td>(100, 148)</td>\n",
       "      <td>f: % несовпадающих слов</td>\n",
       "    </tr>\n",
       "    <tr>\n",
       "      <th>686</th>\n",
       "      <td>-0.014906</td>\n",
       "      <td>single</td>\n",
       "      <td>0.979592</td>\n",
       "      <td>0.020408</td>\n",
       "      <td>0.979592</td>\n",
       "      <td>77</td>\n",
       "      <td>bag of words</td>\n",
       "      <td>(100, 148)</td>\n",
       "      <td>euclidean</td>\n",
       "    </tr>\n",
       "    <tr>\n",
       "      <th>689</th>\n",
       "      <td>-0.014906</td>\n",
       "      <td>complete</td>\n",
       "      <td>0.979592</td>\n",
       "      <td>0.020408</td>\n",
       "      <td>0.979592</td>\n",
       "      <td>77</td>\n",
       "      <td>bag of words</td>\n",
       "      <td>(100, 148)</td>\n",
       "      <td>euclidean</td>\n",
       "    </tr>\n",
       "    <tr>\n",
       "      <th>692</th>\n",
       "      <td>-0.014906</td>\n",
       "      <td>average</td>\n",
       "      <td>0.979592</td>\n",
       "      <td>0.020408</td>\n",
       "      <td>0.979592</td>\n",
       "      <td>77</td>\n",
       "      <td>bag of words</td>\n",
       "      <td>(100, 148)</td>\n",
       "      <td>euclidean</td>\n",
       "    </tr>\n",
       "    <tr>\n",
       "      <th>444</th>\n",
       "      <td>0.457878</td>\n",
       "      <td>complete</td>\n",
       "      <td>0.976190</td>\n",
       "      <td>0.000000</td>\n",
       "      <td>0.976190</td>\n",
       "      <td>50</td>\n",
       "      <td>onehot</td>\n",
       "      <td>(88, 180)</td>\n",
       "      <td>f: % несовпадающих слов</td>\n",
       "    </tr>\n",
       "    <tr>\n",
       "      <th>685</th>\n",
       "      <td>-0.023806</td>\n",
       "      <td>single</td>\n",
       "      <td>0.974359</td>\n",
       "      <td>0.040404</td>\n",
       "      <td>0.974359</td>\n",
       "      <td>77</td>\n",
       "      <td>tfidf</td>\n",
       "      <td>(100, 148)</td>\n",
       "      <td>cosine</td>\n",
       "    </tr>\n",
       "    <tr>\n",
       "      <th>690</th>\n",
       "      <td>-0.023806</td>\n",
       "      <td>average</td>\n",
       "      <td>0.974359</td>\n",
       "      <td>0.040404</td>\n",
       "      <td>0.974359</td>\n",
       "      <td>77</td>\n",
       "      <td>onehot</td>\n",
       "      <td>(100, 148)</td>\n",
       "      <td>f: % несовпадающих слов</td>\n",
       "    </tr>\n",
       "    <tr>\n",
       "      <th>691</th>\n",
       "      <td>-0.023806</td>\n",
       "      <td>average</td>\n",
       "      <td>0.974359</td>\n",
       "      <td>0.040404</td>\n",
       "      <td>0.974359</td>\n",
       "      <td>77</td>\n",
       "      <td>tfidf</td>\n",
       "      <td>(100, 148)</td>\n",
       "      <td>cosine</td>\n",
       "    </tr>\n",
       "    <tr>\n",
       "      <th>432</th>\n",
       "      <td>0.402851</td>\n",
       "      <td>single</td>\n",
       "      <td>0.973822</td>\n",
       "      <td>0.000000</td>\n",
       "      <td>0.973822</td>\n",
       "      <td>49</td>\n",
       "      <td>onehot</td>\n",
       "      <td>(100, 188)</td>\n",
       "      <td>f: % несовпадающих слов</td>\n",
       "    </tr>\n",
       "  </tbody>\n",
       "</table>\n",
       "</div>"
      ],
      "text/plain": [
       "      adjusted_rand_score clustering_method  f1_score_max  f1_score_v1  \\\n",
       "1083             0.727513          complete      0.983784     0.983784   \n",
       "684             -0.014906            single      0.979592     0.020408   \n",
       "686             -0.014906            single      0.979592     0.020408   \n",
       "689             -0.014906          complete      0.979592     0.020408   \n",
       "692             -0.014906           average      0.979592     0.020408   \n",
       "444              0.457878          complete      0.976190     0.000000   \n",
       "685             -0.023806            single      0.974359     0.040404   \n",
       "690             -0.023806           average      0.974359     0.040404   \n",
       "691             -0.023806           average      0.974359     0.040404   \n",
       "432              0.402851            single      0.973822     0.000000   \n",
       "\n",
       "      f1_score_v2  group_id   matrix_mode matrix_shape  \\\n",
       "1083     0.000000       121        onehot    (99, 138)   \n",
       "684      0.979592        77        onehot   (100, 148)   \n",
       "686      0.979592        77  bag of words   (100, 148)   \n",
       "689      0.979592        77  bag of words   (100, 148)   \n",
       "692      0.979592        77  bag of words   (100, 148)   \n",
       "444      0.976190        50        onehot    (88, 180)   \n",
       "685      0.974359        77         tfidf   (100, 148)   \n",
       "690      0.974359        77        onehot   (100, 148)   \n",
       "691      0.974359        77         tfidf   (100, 148)   \n",
       "432      0.973822        49        onehot   (100, 188)   \n",
       "\n",
       "                       metric  \n",
       "1083  f: % несовпадающих слов  \n",
       "684   f: % несовпадающих слов  \n",
       "686                 euclidean  \n",
       "689                 euclidean  \n",
       "692                 euclidean  \n",
       "444   f: % несовпадающих слов  \n",
       "685                    cosine  \n",
       "690   f: % несовпадающих слов  \n",
       "691                    cosine  \n",
       "432   f: % несовпадающих слов  "
      ]
     },
     "execution_count": 105,
     "metadata": {},
     "output_type": "execute_result"
    }
   ],
   "source": [
    "df.head(10)"
   ]
  },
  {
   "cell_type": "markdown",
   "metadata": {},
   "source": [
    "Построим дендрограмму для результата с f1_score = 0.983784 (из группы 121)"
   ]
  },
  {
   "cell_type": "markdown",
   "metadata": {},
   "source": [
    "Для этого повторим процесс преподготовки и кластеризацию"
   ]
  },
  {
   "cell_type": "code",
   "execution_count": 187,
   "metadata": {},
   "outputs": [],
   "source": [
    "# %%pycodestyle\n",
    "\n",
    "group_id = 121\n",
    "group = traingroups_titledata[group_id]\n",
    "X = [nltk.word_tokenize(\n",
    "    re.sub(r'\\W|\\d', ' ', obj[1].lower())) for obj in group]\n",
    "X = [(list(map(lambda word: my_stem(word), x))) for x in X]\n",
    "y = [obj[2] for obj in group]\n",
    "y_true = np.array(y)\n"
   ]
  },
  {
   "cell_type": "code",
   "execution_count": 122,
   "metadata": {},
   "outputs": [],
   "source": [
    "M = make_matrix(X, 'onehot').toarray()"
   ]
  },
  {
   "cell_type": "code",
   "execution_count": 195,
   "metadata": {},
   "outputs": [
    {
     "name": "stdout",
     "output_type": "stream",
     "text": [
      "PREDICTED:\n",
      " [1 1 1 1 1 1 1 1 1 1 1 1 1 1 0 1 1 1 1 1 1 1 1 1 1 1 1 1 1 1 1 1 1 0 1 1 1\n",
      " 1 1 1 1 0 1 1 1 1 1 1 1 1 1 1 1 1 1 0 1 1 1 1 1 1 0 1 1 1 1 1 1 1 1 1 1 1\n",
      " 1 1 1 1 1 1 1 1 1 1 1 1 1 1 1 1 1 1 1 1 1 1 1 1 1]\n",
      "TRUE:\n",
      " [1 1 1 1 1 1 1 1 1 1 1 1 1 1 0 1 1 1 1 1 1 1 1 1 1 1 1 1 1 1 0 1 1 0 1 1 1\n",
      " 1 1 1 0 0 1 1 1 1 1 1 1 1 1 1 1 1 1 0 1 1 1 1 1 1 0 1 1 1 1 1 1 1 1 1 1 1\n",
      " 1 1 1 1 1 1 1 1 1 1 1 1 1 1 1 1 1 1 1 1 1 1 1 0 1]\n",
      "\n",
      "f1_score: 0.9837837837837838. f1_score2: 0.0. aggl_score 0.7275132636315729\n"
     ]
    }
   ],
   "source": [
    "# %%pycodestyle\n",
    "\n",
    "my = Clustering(metric=f, method='complete')\n",
    "y_pred = my.fit_predict(M)\n",
    "print(\"PREDICTED:\\n\", y_pred)\n",
    "print(\"TRUE:\\n\", y_true)\n",
    "\n",
    "f1_score = smt.f1_score(y_true, y_pred)\n",
    "aggl_score = smt.adjusted_rand_score(y_true, y_pred)\n",
    "print(\"\\nf1_score: {}. f1_score2: {}. aggl_score {}\".format(\n",
    "    f1_score, f1_score2, aggl_score))\n"
   ]
  },
  {
   "cell_type": "markdown",
   "metadata": {},
   "source": [
    " "
   ]
  },
  {
   "cell_type": "markdown",
   "metadata": {},
   "source": [
    "Здесь алгоритм точно выявил точки аномалии, хоть и не полно:"
   ]
  },
  {
   "cell_type": "code",
   "execution_count": 199,
   "metadata": {},
   "outputs": [
    {
     "data": {
      "text/plain": [
       "array([[14],\n",
       "       [33],\n",
       "       [41],\n",
       "       [55],\n",
       "       [62]], dtype=int64)"
      ]
     },
     "execution_count": 199,
     "metadata": {},
     "output_type": "execute_result"
    }
   ],
   "source": [
    "np.argwhere(y_pred == 0)\n"
   ]
  },
  {
   "cell_type": "code",
   "execution_count": 200,
   "metadata": {},
   "outputs": [
    {
     "data": {
      "text/plain": [
       "array([[14],\n",
       "       [30],\n",
       "       [33],\n",
       "       [40],\n",
       "       [41],\n",
       "       [55],\n",
       "       [62],\n",
       "       [97]], dtype=int64)"
      ]
     },
     "execution_count": 200,
     "metadata": {},
     "output_type": "execute_result"
    }
   ],
   "source": [
    "np.argwhere(y_true == 0)\n"
   ]
  },
  {
   "cell_type": "markdown",
   "metadata": {},
   "source": [
    "<b> Linkage </b>\n",
    "\n",
    "linkage - список с информацией о разбиениях на новые кластеры, который используется для построения дендрограммы\n",
    "\n",
    "Рассмотрим его последние элементы\n",
    "\n",
    "Можно заметить элементы 14, 33, 41, 55, 62 среди последних объединений в кластеры.\n",
    "\n",
    "14, 33, 41, 55, 62 - номера кластеров-одиночек, так как нумерация кластеров больше, чем из одного элемента начинается с len(X). В данном случае len(X) = 99.\n",
    "\n"
   ]
  },
  {
   "cell_type": "code",
   "execution_count": 202,
   "metadata": {},
   "outputs": [
    {
     "data": {
      "text/plain": [
       "[[14, 55, 0.875, 2],\n",
       " [40, 178, 0.8799999999999999, 3],\n",
       " [174, 176, 0.8888888888888888, 8],\n",
       " [182, 185, 0.8888888888888888, 16],\n",
       " [175, 177, 0.8947368421052633, 15],\n",
       " [181, 188, 0.9411764705882353, 22],\n",
       " [183, 186, 0.9444444444444444, 56],\n",
       " [187, 189, 0.9523809523809523, 38],\n",
       " [33, 41, 1.0, 2],\n",
       " [62, 184, 1.0, 3],\n",
       " [190, 191, 1.0, 94],\n",
       " [192, 193, 1.0, 5],\n",
       " [194, 195, 1.0, 99]]"
      ]
     },
     "execution_count": 202,
     "metadata": {},
     "output_type": "execute_result"
    }
   ],
   "source": [
    "my.linkage[-13:]\n"
   ]
  },
  {
   "cell_type": "markdown",
   "metadata": {},
   "source": [
    "<b> Дендрограмма </b>\n",
    "\n",
    "И на дендрограмме наглядно их позднее объединение (справа). То есть они как бы до последнего не кластеризовались вообще ни с какими другими элементами, а затем попали в кластер выбросов."
   ]
  },
  {
   "cell_type": "code",
   "execution_count": 203,
   "metadata": {},
   "outputs": [
    {
     "data": {
      "image/png": "[encoded data removed]",
      "text/plain": [
       "<Figure size 432x288 with 1 Axes>"
      ]
     },
     "metadata": {
      "needs_background": "light"
     },
     "output_type": "display_data"
    },
    {
     "data": {
      "text/plain": [
       "<Figure size 1440x720 with 0 Axes>"
      ]
     },
     "metadata": {},
     "output_type": "display_data"
    }
   ],
   "source": [
    "my.plot_dendrogram()\n"
   ]
  },
  {
   "cell_type": "markdown",
   "metadata": {},
   "source": [
    "# Ответы на вопросы #\n",
    "\n",
    "1) Можно ли по дендонаграмме (или по другим результатам кластеризации) сказать, где в группе аномалии? Каким образом?\n",
    "Ответ дан выше.\n",
    "\n",
    "\n",
    "2) Какое расстояние лучше использовать между заголовками страниц для кластеризации?\n",
    "В моём исследовании лучше всего проявило себя расстояние, показывающее долю общих слов.\n",
    "\n",
    "\n",
    "3) Какое качество f1_score Вы смогли получить на обучающем множестве методами кластеризации? (валидацию можете не делать, если таргет не используете)\n",
    "0.983784\n",
    "\n",
    "\n",
    "4) Как можно результат кластеризации затем использовать для финальной модели обучения с учителем?\n",
    "Метку кластера можно использовать как дополнительный признак."
   ]
  },
  {
   "cell_type": "markdown",
   "metadata": {},
   "source": [
    " "
   ]
  },
  {
   "cell_type": "markdown",
   "metadata": {},
   "source": [
    " "
   ]
  },
  {
   "cell_type": "code",
   "execution_count": 208,
   "metadata": {},
   "outputs": [],
   "source": [
    "# Сторонний стеммер для русских слов\n",
    "\n",
    "# %%pycodestyle\n",
    "\n",
    "\n",
    "class PorterRussian:\n",
    "    PERFECTIVEGROUND = re.compile(\n",
    "        u\"((ив|ивши|ившись|ыв|ывши|ывшись)|((?<=[ая])(в|вши|вшись)))$\")\n",
    "    REFLEXIVE = re.compile(u\"(с[яь])$\")\n",
    "    ADJECTIVE = re.compile(\n",
    "        u\"(ее|ие|ые|ое|ими|ыми|ей|ий|ый|ой|ем|им|ым|ом|его|ого|ему|ому|их|ых|ую|юю|ая|яя|ою|ею)$\")\n",
    "    PARTICIPLE = re.compile(u\"((ивш|ывш|ующ)|((?<=[ая])(ем|нн|вш|ющ|щ)))$\")\n",
    "    VERB = re.compile(\n",
    "        u\"((ила|ыла|ена|ейте|уйте|ите|или|ыли|ей|уй|ил|ыл|им|ым|ен|ило|ыло|ено|ят|ует|уют|ит|ыт|ены|ить|ыть|ишь|ую|ю)|((?<=[ая])(ла|на|ете|йте|ли|й|л|ем|н|ло|но|ет|ют|ны|ть|ешь|нно)))$\")\n",
    "    NOUN = re.compile(\n",
    "        u\"(а|ев|ов|ие|ье|е|иями|ями|ами|еи|ии|и|ией|ей|ой|ий|й|иям|ям|ием|ем|ам|ом|о|у|ах|иях|ях|ы|ь|ию|ью|ю|ия|ья|я)$\")\n",
    "    RVRE = re.compile(u\"^(.*?[аеиоуыэюя])(.*)$\")\n",
    "    DERIVATIONAL = re.compile(u\".*[^аеиоуыэюя]+[аеиоуыэюя].*ость?$\")\n",
    "    DER = re.compile(u\"ость?$\")\n",
    "    SUPERLATIVE = re.compile(u\"(ейше|ейш)$\")\n",
    "    I = re.compile(u\"и$\")\n",
    "    P = re.compile(u\"ь$\")\n",
    "    NN = re.compile(u\"нн$\")\n",
    "\n",
    "    def stem(word):\n",
    "        word = word.lower()\n",
    "        word = word.replace(u'ё', u'е')\n",
    "        m = re.match(PorterRussian.RVRE, word)\n",
    "        if m and m.groups():\n",
    "            pre = m.group(1)\n",
    "            rv = m.group(2)\n",
    "            temp = PorterRussian.PERFECTIVEGROUND.sub('', rv, 1)\n",
    "            if temp == rv:\n",
    "                rv = PorterRussian.REFLEXIVE.sub('', rv, 1)\n",
    "                temp = PorterRussian.ADJECTIVE.sub('', rv, 1)\n",
    "                if temp != rv:\n",
    "                    rv = temp\n",
    "                    rv = PorterRussian.PARTICIPLE.sub('', rv, 1)\n",
    "                else:\n",
    "                    temp = PorterRussian.VERB.sub('', rv, 1)\n",
    "                    if temp == rv:\n",
    "                        rv = PorterRussian.NOUN.sub('', rv, 1)\n",
    "                    else:\n",
    "                        rv = temp\n",
    "            else:\n",
    "                rv = temp\n",
    "\n",
    "            rv = PorterRussian.I.sub('', rv, 1)\n",
    "\n",
    "            if re.match(PorterRussian.DERIVATIONAL, rv):\n",
    "                rv = PorterRussian.DER.sub('', rv, 1)\n",
    "\n",
    "            temp = PorterRussian.P.sub('', rv, 1)\n",
    "            if temp == rv:\n",
    "                rv = PorterRussian.SUPERLATIVE.sub('', rv, 1)\n",
    "                rv = PorterRussian.NN.sub(u'н', rv, 1)\n",
    "            else:\n",
    "                rv = temp\n",
    "            word = pre + rv\n",
    "        return word\n",
    "    stem = staticmethod(stem)\n"
   ]
  },
  {
   "cell_type": "markdown",
   "metadata": {
    "collapsed": true
   },
   "source": [
    "Если получилось найти выбросы с помощью кластеризации, то не забывайте использовать его в финальном решении. Помните - использование различных подходов к решению задачи всегда улучшает финального качество."
   ]
  },
  {
   "cell_type": "markdown",
   "metadata": {},
   "source": [
    "Здесь Вы можете оставить отзыв о этой домашней работе или о всем курсе.   "
   ]
  },
  {
   "cell_type": "markdown",
   "metadata": {},
   "source": [
    "*** ВАШ ОТЗЫВ ЗДЕСЬ***"
   ]
  },
  {
   "cell_type": "markdown",
   "metadata": {
    "collapsed": true
   },
   "source": []
  },
  {
   "cell_type": "markdown",
   "metadata": {
    "collapsed": true
   },
   "source": []
  }
 ],
 "metadata": {
  "anaconda-cloud": {},
  "kernelspec": {
   "display_name": "Python 3",
   "language": "python",
   "name": "python3"
  },
  "language_info": {
   "codemirror_mode": {
    "name": "ipython",
    "version": 3
   },
   "file_extension": ".py",
   "mimetype": "text/x-python",
   "name": "python",
   "nbconvert_exporter": "python",
   "pygments_lexer": "ipython3",
   "version": "3.7.3"
  }
 },
 "nbformat": 4,
 "nbformat_minor": 1
}
